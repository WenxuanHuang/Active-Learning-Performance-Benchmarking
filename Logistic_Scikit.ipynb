{
  "nbformat": 4,
  "nbformat_minor": 0,
  "metadata": {
    "colab": {
      "name": "Logistic.ipynb",
      "provenance": [],
      "mount_file_id": "1SZapm_bYNJDCJi8ECwmjrzaN8-1ruRgA",
      "authorship_tag": "ABX9TyMfqalTRwiWuiIELJDbCQ7d"
    },
    "kernelspec": {
      "name": "python382jvsc74a57bd031f2aee4e71d21fbe5cf8b01ff0e069b9275f58929596ceb00d14d90e3e16cd6",
      "display_name": "Python 3.8.2 64-bit"
    },
    "metadata": {
      "interpreter": {
        "hash": "31f2aee4e71d21fbe5cf8b01ff0e069b9275f58929596ceb00d14d90e3e16cd6"
      }
    }
  },
  "cells": [
    {
      "cell_type": "code",
      "metadata": {
        "colab": {
          "base_uri": "https://localhost:8080/"
        },
        "id": "cP0O38MJWDxM",
        "outputId": "2e598839-16e8-44cf-820a-9750eeab8e5a"
      },
      "source": [
        "!pip3 install statsmodels --upgrade"
      ],
      "execution_count": 3,
      "outputs": [
        {
          "output_type": "stream",
          "name": "stdout",
          "text": [
            "WARNING: pip is being invoked by an old script wrapper. This will fail in a future version of pip.\n",
            "Please see https://github.com/pypa/pip/issues/5599 for advice on fixing the underlying issue.\n",
            "To avoid this problem you can invoke Python with '-m pip' instead of running pip directly.\n",
            "Defaulting to user installation because normal site-packages is not writeable\n",
            "Requirement already satisfied: statsmodels in /Users/wenxuanhuang/Library/Python/3.8/lib/python/site-packages (0.12.2)\n",
            "Requirement already satisfied: pandas>=0.21 in /Users/wenxuanhuang/Library/Python/3.8/lib/python/site-packages (from statsmodels) (1.2.3)\n",
            "Requirement already satisfied: patsy>=0.5 in /Users/wenxuanhuang/Library/Python/3.8/lib/python/site-packages (from statsmodels) (0.5.1)\n",
            "Requirement already satisfied: scipy>=1.1 in /Users/wenxuanhuang/Library/Python/3.8/lib/python/site-packages (from statsmodels) (1.6.2)\n",
            "Requirement already satisfied: numpy>=1.15 in /Users/wenxuanhuang/Library/Python/3.8/lib/python/site-packages (from statsmodels) (1.20.2)\n",
            "Requirement already satisfied: pytz>=2017.3 in /Users/wenxuanhuang/Library/Python/3.8/lib/python/site-packages (from pandas>=0.21->statsmodels) (2021.1)\n",
            "Requirement already satisfied: python-dateutil>=2.7.3 in /Users/wenxuanhuang/Library/Python/3.8/lib/python/site-packages (from pandas>=0.21->statsmodels) (2.8.1)\n",
            "Requirement already satisfied: six in /Library/Developer/CommandLineTools/Library/Frameworks/Python3.framework/Versions/3.8/lib/python3.8/site-packages (from patsy>=0.5->statsmodels) (1.15.0)\n"
          ]
        }
      ]
    },
    {
      "cell_type": "code",
      "metadata": {
        "colab": {
          "base_uri": "https://localhost:8080/"
        },
        "id": "ioi13nGDPDvQ",
        "outputId": "4763f7b3-6c5b-45cb-f411-fd7c6ea8b38f"
      },
      "source": [
        "print(__doc__)\n",
        "\n",
        "import scipy.stats as scp_stats\n",
        "import numpy as np\n",
        "import pandas as pd\n",
        "import matplotlib\n",
        "import matplotlib.pyplot as plt\n",
        "import scipy\n",
        "from scipy.special import expit\n",
        "import statsmodels.api as sm\n",
        "\n",
        "from sklearn.experimental import enable_iterative_imputer\n",
        "from sklearn.impute import IterativeImputer\n",
        "from sklearn import linear_model\n",
        "from sklearn.feature_selection import RFE\n",
        "from sklearn.pipeline import Pipeline, FeatureUnion\n",
        "from sklearn.model_selection import GridSearchCV\n",
        "from sklearn.model_selection import train_test_split\n",
        "from sklearn.ensemble import RandomForestClassifier\n",
        "from sklearn.linear_model import LogisticRegression\n",
        "from sklearn.svm import SVC\n",
        "from sklearn.preprocessing import RobustScaler\n",
        "from sklearn.decomposition import PCA\n",
        "from sklearn.feature_selection import SelectKBest\n",
        "from sklearn import metrics\n",
        "from sklearn.linear_model import RidgeCV, LassoCV, Ridge, Lasso\n",
        "\n",
        "import missingno as msno\n",
        "import seaborn as sns\n",
        "\n",
        "# pd.options.display.max_rows = 20\n",
        "pd.options.display.float_format = \"{:.1f}\".format\n",
        "df = pd.read_csv(\"https://raw.githubusercontent.com/WenxuanHuang/ML-for-COVID-19-dataset/main/all_training.csv\", sep=',')"
      ],
      "execution_count": 4,
      "outputs": [
        {
          "output_type": "stream",
          "name": "stdout",
          "text": [
            "Automatically created module for IPython interactive environment\n"
          ]
        }
      ]
    },
    {
      "cell_type": "code",
      "metadata": {
        "id": "I5wm-nCFojyN",
        "colab": {
          "base_uri": "https://localhost:8080/"
        },
        "outputId": "c9a3f18c-5c4a-4fc5-f5fc-9b699e485fdd"
      },
      "source": [
        "#Using robust scaling as normalization method\n",
        "\n",
        "# Column selection\n",
        "df_features = df.iloc[:,np.r_[3,5:34]].copy()\n",
        "\n",
        "# create a scaler object\n",
        "scaler = RobustScaler()\n",
        "\n",
        "# fit and transform the data\n",
        "df_normalized = pd.DataFrame(scaler.fit_transform(df_features), columns=df_features.columns)\n",
        "n_samples, n_features = df_features.shape\n",
        "\n",
        "# How many nan values are there?\n",
        "df_normalized.isna().sum()"
      ],
      "execution_count": 5,
      "outputs": [
        {
          "output_type": "execute_result",
          "data": {
            "text/plain": [
              "CA       93\n",
              "CREA     74\n",
              "ALP     474\n",
              "GGT     436\n",
              "GLU      98\n",
              "AST      98\n",
              "ALT      96\n",
              "LDH     303\n",
              "PCR      97\n",
              "KAL      80\n",
              "NAT      73\n",
              "UREA    676\n",
              "WBC      63\n",
              "RBC      63\n",
              "HGB      63\n",
              "HCT      63\n",
              "MCV      63\n",
              "MCH      63\n",
              "MCHC     63\n",
              "PLT1     63\n",
              "NE      362\n",
              "LY      362\n",
              "MO      362\n",
              "EO      362\n",
              "BA      362\n",
              "NET     362\n",
              "LYT     362\n",
              "MOT     362\n",
              "EOT     362\n",
              "BAT     362\n",
              "dtype: int64"
            ]
          },
          "metadata": {},
          "execution_count": 5
        }
      ]
    },
    {
      "cell_type": "code",
      "metadata": {
        "id": "cb2XeehlKviv",
        "colab": {
          "base_uri": "https://localhost:8080/"
        },
        "outputId": "cd837d72-14d2-42f8-d40b-3ac235086a2a"
      },
      "source": [
        "# define row and column index\n",
        "col = df_normalized.columns\n",
        "row = [i for i in range(df_normalized.shape[0])]\n",
        "\n",
        "# define imputer\n",
        "imputer = IterativeImputer(estimator=linear_model.BayesianRidge(), n_nearest_features=None, imputation_order='ascending')\n",
        "\n",
        "# fit on the dataset\n",
        "imputer.fit(df_normalized)\n",
        "\n",
        "# transform the dataset\n",
        "df_normalized_imputed = imputer.transform(df_normalized)\n",
        "\n",
        "# convert back to pandas dataframe and rename back to df_normalized\n",
        "df_normalized = pd.DataFrame(data=df_normalized_imputed, index=row, columns=col)\n",
        "\n",
        "# how many values does the imputation fix?\n",
        "df_normalized.isna().sum()"
      ],
      "execution_count": 6,
      "outputs": [
        {
          "output_type": "stream",
          "name": "stderr",
          "text": [
            "/Users/wenxuanhuang/Library/Python/3.8/lib/python/site-packages/sklearn/impute/_iterative.py:685: ConvergenceWarning: [IterativeImputer] Early stopping criterion not reached.\n  warnings.warn(\"[IterativeImputer] Early stopping criterion not\"\n"
          ]
        },
        {
          "output_type": "execute_result",
          "data": {
            "text/plain": [
              "CA      0\n",
              "CREA    0\n",
              "ALP     0\n",
              "GGT     0\n",
              "GLU     0\n",
              "AST     0\n",
              "ALT     0\n",
              "LDH     0\n",
              "PCR     0\n",
              "KAL     0\n",
              "NAT     0\n",
              "UREA    0\n",
              "WBC     0\n",
              "RBC     0\n",
              "HGB     0\n",
              "HCT     0\n",
              "MCV     0\n",
              "MCH     0\n",
              "MCHC    0\n",
              "PLT1    0\n",
              "NE      0\n",
              "LY      0\n",
              "MO      0\n",
              "EO      0\n",
              "BA      0\n",
              "NET     0\n",
              "LYT     0\n",
              "MOT     0\n",
              "EOT     0\n",
              "BAT     0\n",
              "dtype: int64"
            ]
          },
          "metadata": {},
          "execution_count": 6
        }
      ]
    },
    {
      "cell_type": "code",
      "metadata": {
        "id": "aTChXqRGYTBR",
        "colab": {
          "base_uri": "https://localhost:8080/"
        },
        "outputId": "dc129e7a-062e-4b20-951d-474768d269e8"
      },
      "source": [
        "# Logistic regression\n",
        "\n",
        "# Data preparation\n",
        "X = df_normalized\n",
        "y = df.target\n",
        "\n",
        "# Recursive feature elimination\n",
        "logreg = linear_model.LogisticRegression()\n",
        "rfe = RFE(logreg,10)\n",
        "rfe = rfe.fit(df_normalized, y.values.ravel())\n",
        "print(rfe.support_)\n",
        "# print(rfe.ranking_)\n",
        "\n",
        "# Drop columns that failed RFE test\n",
        "col = df_normalized.columns[rfe.support_]\n",
        "X = X[col]\n",
        "X = X.to_numpy()\n",
        "\n",
        "# Cross validation\n",
        "X_train, X_test, y_train, y_test = train_test_split(X, y, test_size=0.3, random_state=42)\n",
        "\n",
        "# The line is disabled since single column has not been specified \n",
        "#X = X[:, np.newaxis]"
      ],
      "execution_count": 7,
      "outputs": [
        {
          "output_type": "stream",
          "name": "stderr",
          "text": [
            "/Users/wenxuanhuang/Library/Python/3.8/lib/python/site-packages/sklearn/utils/validation.py:70: FutureWarning: Pass n_features_to_select=10 as keyword args. From version 1.0 (renaming of 0.25) passing these as positional arguments will result in an error\n",
            "  warnings.warn(f\"Pass {args_msg} as keyword args. From version \"\n",
            "[ True False False False False False False  True  True False False False\n",
            "  True  True False  True False False False  True  True False False False\n",
            "  True  True False False False False]\n"
          ]
        }
      ]
    },
    {
      "cell_type": "code",
      "metadata": {
        "colab": {
          "base_uri": "https://localhost:8080/",
          "height": 488
        },
        "id": "BvHXz3Ie7bzk",
        "outputId": "99651936-48dd-458d-dcda-a4cb22e84919"
      },
      "source": [
        "# Create a Gaussian Classifier\n",
        "log_skmodel=LogisticRegression()\n",
        "# Train the random forest model\n",
        "log_skmodel.fit(X_train,y_train)\n",
        "\n",
        "# Predict the response for test dataset\n",
        "y_pred=log_skmodel.predict(X_test)\n",
        "# Model Accuracy: How often is the classifier correct?\n",
        "print(metrics.accuracy_score(y_test, y_pred))"
      ],
      "execution_count": 9,
      "outputs": [
        {
          "output_type": "stream",
          "name": "stdout",
          "text": [
            "0.8195777351247601\n"
          ]
        }
      ]
    },
    {
      "cell_type": "code",
      "execution_count": 10,
      "metadata": {},
      "outputs": [
        {
          "output_type": "display_data",
          "data": {
            "text/plain": "<Figure size 360x360 with 1 Axes>",
            "image/svg+xml": "<?xml version=\"1.0\" encoding=\"utf-8\" standalone=\"no\"?>\n<!DOCTYPE svg PUBLIC \"-//W3C//DTD SVG 1.1//EN\"\n  \"http://www.w3.org/Graphics/SVG/1.1/DTD/svg11.dtd\">\n<svg height=\"331.674375pt\" version=\"1.1\" viewBox=\"0 0 337.932812 331.674375\" width=\"337.932812pt\" xmlns=\"http://www.w3.org/2000/svg\" xmlns:xlink=\"http://www.w3.org/1999/xlink\">\n <metadata>\n  <rdf:RDF xmlns:cc=\"http://creativecommons.org/ns#\" xmlns:dc=\"http://purl.org/dc/elements/1.1/\" xmlns:rdf=\"http://www.w3.org/1999/02/22-rdf-syntax-ns#\">\n   <cc:Work>\n    <dc:type rdf:resource=\"http://purl.org/dc/dcmitype/StillImage\"/>\n    <dc:date>2021-04-13T20:02:31.052488</dc:date>\n    <dc:format>image/svg+xml</dc:format>\n    <dc:creator>\n     <cc:Agent>\n      <dc:title>Matplotlib v3.4.1, https://matplotlib.org/</dc:title>\n     </cc:Agent>\n    </dc:creator>\n   </cc:Work>\n  </rdf:RDF>\n </metadata>\n <defs>\n  <style type=\"text/css\">*{stroke-linecap:butt;stroke-linejoin:round;}</style>\n </defs>\n <g id=\"figure_1\">\n  <g id=\"patch_1\">\n   <path d=\"M 0 331.674375 \nL 337.932812 331.674375 \nL 337.932812 0 \nL 0 0 \nz\n\" style=\"fill:none;\"/>\n  </g>\n  <g id=\"axes_1\">\n   <g id=\"patch_2\">\n    <path d=\"M 43.78125 294.118125 \nL 322.78125 294.118125 \nL 322.78125 22.318125 \nL 43.78125 22.318125 \nz\n\" style=\"fill:#ffffff;\"/>\n   </g>\n   <g id=\"matplotlib.axis_1\">\n    <g id=\"xtick_1\">\n     <g id=\"line2d_1\">\n      <defs>\n       <path d=\"M 0 0 \nL 0 3.5 \n\" id=\"maa868197a2\" style=\"stroke:#000000;stroke-width:0.8;\"/>\n      </defs>\n      <g>\n       <use style=\"stroke:#000000;stroke-width:0.8;\" x=\"43.78125\" xlink:href=\"#maa868197a2\" y=\"294.118125\"/>\n      </g>\n     </g>\n     <g id=\"text_1\">\n      <!-- 0.0 -->\n      <g transform=\"translate(35.829688 308.716563)scale(0.1 -0.1)\">\n       <defs>\n        <path d=\"M 2034 4250 \nQ 1547 4250 1301 3770 \nQ 1056 3291 1056 2328 \nQ 1056 1369 1301 889 \nQ 1547 409 2034 409 \nQ 2525 409 2770 889 \nQ 3016 1369 3016 2328 \nQ 3016 3291 2770 3770 \nQ 2525 4250 2034 4250 \nz\nM 2034 4750 \nQ 2819 4750 3233 4129 \nQ 3647 3509 3647 2328 \nQ 3647 1150 3233 529 \nQ 2819 -91 2034 -91 \nQ 1250 -91 836 529 \nQ 422 1150 422 2328 \nQ 422 3509 836 4129 \nQ 1250 4750 2034 4750 \nz\n\" id=\"DejaVuSans-30\" transform=\"scale(0.015625)\"/>\n        <path d=\"M 684 794 \nL 1344 794 \nL 1344 0 \nL 684 0 \nL 684 794 \nz\n\" id=\"DejaVuSans-2e\" transform=\"scale(0.015625)\"/>\n       </defs>\n       <use xlink:href=\"#DejaVuSans-30\"/>\n       <use x=\"63.623047\" xlink:href=\"#DejaVuSans-2e\"/>\n       <use x=\"95.410156\" xlink:href=\"#DejaVuSans-30\"/>\n      </g>\n     </g>\n    </g>\n    <g id=\"xtick_2\">\n     <g id=\"line2d_2\">\n      <g>\n       <use style=\"stroke:#000000;stroke-width:0.8;\" x=\"99.58125\" xlink:href=\"#maa868197a2\" y=\"294.118125\"/>\n      </g>\n     </g>\n     <g id=\"text_2\">\n      <!-- 0.2 -->\n      <g transform=\"translate(91.629688 308.716563)scale(0.1 -0.1)\">\n       <defs>\n        <path d=\"M 1228 531 \nL 3431 531 \nL 3431 0 \nL 469 0 \nL 469 531 \nQ 828 903 1448 1529 \nQ 2069 2156 2228 2338 \nQ 2531 2678 2651 2914 \nQ 2772 3150 2772 3378 \nQ 2772 3750 2511 3984 \nQ 2250 4219 1831 4219 \nQ 1534 4219 1204 4116 \nQ 875 4013 500 3803 \nL 500 4441 \nQ 881 4594 1212 4672 \nQ 1544 4750 1819 4750 \nQ 2544 4750 2975 4387 \nQ 3406 4025 3406 3419 \nQ 3406 3131 3298 2873 \nQ 3191 2616 2906 2266 \nQ 2828 2175 2409 1742 \nQ 1991 1309 1228 531 \nz\n\" id=\"DejaVuSans-32\" transform=\"scale(0.015625)\"/>\n       </defs>\n       <use xlink:href=\"#DejaVuSans-30\"/>\n       <use x=\"63.623047\" xlink:href=\"#DejaVuSans-2e\"/>\n       <use x=\"95.410156\" xlink:href=\"#DejaVuSans-32\"/>\n      </g>\n     </g>\n    </g>\n    <g id=\"xtick_3\">\n     <g id=\"line2d_3\">\n      <g>\n       <use style=\"stroke:#000000;stroke-width:0.8;\" x=\"155.38125\" xlink:href=\"#maa868197a2\" y=\"294.118125\"/>\n      </g>\n     </g>\n     <g id=\"text_3\">\n      <!-- 0.4 -->\n      <g transform=\"translate(147.429688 308.716563)scale(0.1 -0.1)\">\n       <defs>\n        <path d=\"M 2419 4116 \nL 825 1625 \nL 2419 1625 \nL 2419 4116 \nz\nM 2253 4666 \nL 3047 4666 \nL 3047 1625 \nL 3713 1625 \nL 3713 1100 \nL 3047 1100 \nL 3047 0 \nL 2419 0 \nL 2419 1100 \nL 313 1100 \nL 313 1709 \nL 2253 4666 \nz\n\" id=\"DejaVuSans-34\" transform=\"scale(0.015625)\"/>\n       </defs>\n       <use xlink:href=\"#DejaVuSans-30\"/>\n       <use x=\"63.623047\" xlink:href=\"#DejaVuSans-2e\"/>\n       <use x=\"95.410156\" xlink:href=\"#DejaVuSans-34\"/>\n      </g>\n     </g>\n    </g>\n    <g id=\"xtick_4\">\n     <g id=\"line2d_4\">\n      <g>\n       <use style=\"stroke:#000000;stroke-width:0.8;\" x=\"211.18125\" xlink:href=\"#maa868197a2\" y=\"294.118125\"/>\n      </g>\n     </g>\n     <g id=\"text_4\">\n      <!-- 0.6 -->\n      <g transform=\"translate(203.229688 308.716563)scale(0.1 -0.1)\">\n       <defs>\n        <path d=\"M 2113 2584 \nQ 1688 2584 1439 2293 \nQ 1191 2003 1191 1497 \nQ 1191 994 1439 701 \nQ 1688 409 2113 409 \nQ 2538 409 2786 701 \nQ 3034 994 3034 1497 \nQ 3034 2003 2786 2293 \nQ 2538 2584 2113 2584 \nz\nM 3366 4563 \nL 3366 3988 \nQ 3128 4100 2886 4159 \nQ 2644 4219 2406 4219 \nQ 1781 4219 1451 3797 \nQ 1122 3375 1075 2522 \nQ 1259 2794 1537 2939 \nQ 1816 3084 2150 3084 \nQ 2853 3084 3261 2657 \nQ 3669 2231 3669 1497 \nQ 3669 778 3244 343 \nQ 2819 -91 2113 -91 \nQ 1303 -91 875 529 \nQ 447 1150 447 2328 \nQ 447 3434 972 4092 \nQ 1497 4750 2381 4750 \nQ 2619 4750 2861 4703 \nQ 3103 4656 3366 4563 \nz\n\" id=\"DejaVuSans-36\" transform=\"scale(0.015625)\"/>\n       </defs>\n       <use xlink:href=\"#DejaVuSans-30\"/>\n       <use x=\"63.623047\" xlink:href=\"#DejaVuSans-2e\"/>\n       <use x=\"95.410156\" xlink:href=\"#DejaVuSans-36\"/>\n      </g>\n     </g>\n    </g>\n    <g id=\"xtick_5\">\n     <g id=\"line2d_5\">\n      <g>\n       <use style=\"stroke:#000000;stroke-width:0.8;\" x=\"266.98125\" xlink:href=\"#maa868197a2\" y=\"294.118125\"/>\n      </g>\n     </g>\n     <g id=\"text_5\">\n      <!-- 0.8 -->\n      <g transform=\"translate(259.029688 308.716563)scale(0.1 -0.1)\">\n       <defs>\n        <path d=\"M 2034 2216 \nQ 1584 2216 1326 1975 \nQ 1069 1734 1069 1313 \nQ 1069 891 1326 650 \nQ 1584 409 2034 409 \nQ 2484 409 2743 651 \nQ 3003 894 3003 1313 \nQ 3003 1734 2745 1975 \nQ 2488 2216 2034 2216 \nz\nM 1403 2484 \nQ 997 2584 770 2862 \nQ 544 3141 544 3541 \nQ 544 4100 942 4425 \nQ 1341 4750 2034 4750 \nQ 2731 4750 3128 4425 \nQ 3525 4100 3525 3541 \nQ 3525 3141 3298 2862 \nQ 3072 2584 2669 2484 \nQ 3125 2378 3379 2068 \nQ 3634 1759 3634 1313 \nQ 3634 634 3220 271 \nQ 2806 -91 2034 -91 \nQ 1263 -91 848 271 \nQ 434 634 434 1313 \nQ 434 1759 690 2068 \nQ 947 2378 1403 2484 \nz\nM 1172 3481 \nQ 1172 3119 1398 2916 \nQ 1625 2713 2034 2713 \nQ 2441 2713 2670 2916 \nQ 2900 3119 2900 3481 \nQ 2900 3844 2670 4047 \nQ 2441 4250 2034 4250 \nQ 1625 4250 1398 4047 \nQ 1172 3844 1172 3481 \nz\n\" id=\"DejaVuSans-38\" transform=\"scale(0.015625)\"/>\n       </defs>\n       <use xlink:href=\"#DejaVuSans-30\"/>\n       <use x=\"63.623047\" xlink:href=\"#DejaVuSans-2e\"/>\n       <use x=\"95.410156\" xlink:href=\"#DejaVuSans-38\"/>\n      </g>\n     </g>\n    </g>\n    <g id=\"xtick_6\">\n     <g id=\"line2d_6\">\n      <g>\n       <use style=\"stroke:#000000;stroke-width:0.8;\" x=\"322.78125\" xlink:href=\"#maa868197a2\" y=\"294.118125\"/>\n      </g>\n     </g>\n     <g id=\"text_6\">\n      <!-- 1.0 -->\n      <g transform=\"translate(314.829687 308.716563)scale(0.1 -0.1)\">\n       <defs>\n        <path d=\"M 794 531 \nL 1825 531 \nL 1825 4091 \nL 703 3866 \nL 703 4441 \nL 1819 4666 \nL 2450 4666 \nL 2450 531 \nL 3481 531 \nL 3481 0 \nL 794 0 \nL 794 531 \nz\n\" id=\"DejaVuSans-31\" transform=\"scale(0.015625)\"/>\n       </defs>\n       <use xlink:href=\"#DejaVuSans-31\"/>\n       <use x=\"63.623047\" xlink:href=\"#DejaVuSans-2e\"/>\n       <use x=\"95.410156\" xlink:href=\"#DejaVuSans-30\"/>\n      </g>\n     </g>\n    </g>\n    <g id=\"text_7\">\n     <!-- False Positive Rate or [1 - True Negative Rate] -->\n     <g transform=\"translate(68.758594 322.394687)scale(0.1 -0.1)\">\n      <defs>\n       <path d=\"M 628 4666 \nL 3309 4666 \nL 3309 4134 \nL 1259 4134 \nL 1259 2759 \nL 3109 2759 \nL 3109 2228 \nL 1259 2228 \nL 1259 0 \nL 628 0 \nL 628 4666 \nz\n\" id=\"DejaVuSans-46\" transform=\"scale(0.015625)\"/>\n       <path d=\"M 2194 1759 \nQ 1497 1759 1228 1600 \nQ 959 1441 959 1056 \nQ 959 750 1161 570 \nQ 1363 391 1709 391 \nQ 2188 391 2477 730 \nQ 2766 1069 2766 1631 \nL 2766 1759 \nL 2194 1759 \nz\nM 3341 1997 \nL 3341 0 \nL 2766 0 \nL 2766 531 \nQ 2569 213 2275 61 \nQ 1981 -91 1556 -91 \nQ 1019 -91 701 211 \nQ 384 513 384 1019 \nQ 384 1609 779 1909 \nQ 1175 2209 1959 2209 \nL 2766 2209 \nL 2766 2266 \nQ 2766 2663 2505 2880 \nQ 2244 3097 1772 3097 \nQ 1472 3097 1187 3025 \nQ 903 2953 641 2809 \nL 641 3341 \nQ 956 3463 1253 3523 \nQ 1550 3584 1831 3584 \nQ 2591 3584 2966 3190 \nQ 3341 2797 3341 1997 \nz\n\" id=\"DejaVuSans-61\" transform=\"scale(0.015625)\"/>\n       <path d=\"M 603 4863 \nL 1178 4863 \nL 1178 0 \nL 603 0 \nL 603 4863 \nz\n\" id=\"DejaVuSans-6c\" transform=\"scale(0.015625)\"/>\n       <path d=\"M 2834 3397 \nL 2834 2853 \nQ 2591 2978 2328 3040 \nQ 2066 3103 1784 3103 \nQ 1356 3103 1142 2972 \nQ 928 2841 928 2578 \nQ 928 2378 1081 2264 \nQ 1234 2150 1697 2047 \nL 1894 2003 \nQ 2506 1872 2764 1633 \nQ 3022 1394 3022 966 \nQ 3022 478 2636 193 \nQ 2250 -91 1575 -91 \nQ 1294 -91 989 -36 \nQ 684 19 347 128 \nL 347 722 \nQ 666 556 975 473 \nQ 1284 391 1588 391 \nQ 1994 391 2212 530 \nQ 2431 669 2431 922 \nQ 2431 1156 2273 1281 \nQ 2116 1406 1581 1522 \nL 1381 1569 \nQ 847 1681 609 1914 \nQ 372 2147 372 2553 \nQ 372 3047 722 3315 \nQ 1072 3584 1716 3584 \nQ 2034 3584 2315 3537 \nQ 2597 3491 2834 3397 \nz\n\" id=\"DejaVuSans-73\" transform=\"scale(0.015625)\"/>\n       <path d=\"M 3597 1894 \nL 3597 1613 \nL 953 1613 \nQ 991 1019 1311 708 \nQ 1631 397 2203 397 \nQ 2534 397 2845 478 \nQ 3156 559 3463 722 \nL 3463 178 \nQ 3153 47 2828 -22 \nQ 2503 -91 2169 -91 \nQ 1331 -91 842 396 \nQ 353 884 353 1716 \nQ 353 2575 817 3079 \nQ 1281 3584 2069 3584 \nQ 2775 3584 3186 3129 \nQ 3597 2675 3597 1894 \nz\nM 3022 2063 \nQ 3016 2534 2758 2815 \nQ 2500 3097 2075 3097 \nQ 1594 3097 1305 2825 \nQ 1016 2553 972 2059 \nL 3022 2063 \nz\n\" id=\"DejaVuSans-65\" transform=\"scale(0.015625)\"/>\n       <path id=\"DejaVuSans-20\" transform=\"scale(0.015625)\"/>\n       <path d=\"M 1259 4147 \nL 1259 2394 \nL 2053 2394 \nQ 2494 2394 2734 2622 \nQ 2975 2850 2975 3272 \nQ 2975 3691 2734 3919 \nQ 2494 4147 2053 4147 \nL 1259 4147 \nz\nM 628 4666 \nL 2053 4666 \nQ 2838 4666 3239 4311 \nQ 3641 3956 3641 3272 \nQ 3641 2581 3239 2228 \nQ 2838 1875 2053 1875 \nL 1259 1875 \nL 1259 0 \nL 628 0 \nL 628 4666 \nz\n\" id=\"DejaVuSans-50\" transform=\"scale(0.015625)\"/>\n       <path d=\"M 1959 3097 \nQ 1497 3097 1228 2736 \nQ 959 2375 959 1747 \nQ 959 1119 1226 758 \nQ 1494 397 1959 397 \nQ 2419 397 2687 759 \nQ 2956 1122 2956 1747 \nQ 2956 2369 2687 2733 \nQ 2419 3097 1959 3097 \nz\nM 1959 3584 \nQ 2709 3584 3137 3096 \nQ 3566 2609 3566 1747 \nQ 3566 888 3137 398 \nQ 2709 -91 1959 -91 \nQ 1206 -91 779 398 \nQ 353 888 353 1747 \nQ 353 2609 779 3096 \nQ 1206 3584 1959 3584 \nz\n\" id=\"DejaVuSans-6f\" transform=\"scale(0.015625)\"/>\n       <path d=\"M 603 3500 \nL 1178 3500 \nL 1178 0 \nL 603 0 \nL 603 3500 \nz\nM 603 4863 \nL 1178 4863 \nL 1178 4134 \nL 603 4134 \nL 603 4863 \nz\n\" id=\"DejaVuSans-69\" transform=\"scale(0.015625)\"/>\n       <path d=\"M 1172 4494 \nL 1172 3500 \nL 2356 3500 \nL 2356 3053 \nL 1172 3053 \nL 1172 1153 \nQ 1172 725 1289 603 \nQ 1406 481 1766 481 \nL 2356 481 \nL 2356 0 \nL 1766 0 \nQ 1100 0 847 248 \nQ 594 497 594 1153 \nL 594 3053 \nL 172 3053 \nL 172 3500 \nL 594 3500 \nL 594 4494 \nL 1172 4494 \nz\n\" id=\"DejaVuSans-74\" transform=\"scale(0.015625)\"/>\n       <path d=\"M 191 3500 \nL 800 3500 \nL 1894 563 \nL 2988 3500 \nL 3597 3500 \nL 2284 0 \nL 1503 0 \nL 191 3500 \nz\n\" id=\"DejaVuSans-76\" transform=\"scale(0.015625)\"/>\n       <path d=\"M 2841 2188 \nQ 3044 2119 3236 1894 \nQ 3428 1669 3622 1275 \nL 4263 0 \nL 3584 0 \nL 2988 1197 \nQ 2756 1666 2539 1819 \nQ 2322 1972 1947 1972 \nL 1259 1972 \nL 1259 0 \nL 628 0 \nL 628 4666 \nL 2053 4666 \nQ 2853 4666 3247 4331 \nQ 3641 3997 3641 3322 \nQ 3641 2881 3436 2590 \nQ 3231 2300 2841 2188 \nz\nM 1259 4147 \nL 1259 2491 \nL 2053 2491 \nQ 2509 2491 2742 2702 \nQ 2975 2913 2975 3322 \nQ 2975 3731 2742 3939 \nQ 2509 4147 2053 4147 \nL 1259 4147 \nz\n\" id=\"DejaVuSans-52\" transform=\"scale(0.015625)\"/>\n       <path d=\"M 2631 2963 \nQ 2534 3019 2420 3045 \nQ 2306 3072 2169 3072 \nQ 1681 3072 1420 2755 \nQ 1159 2438 1159 1844 \nL 1159 0 \nL 581 0 \nL 581 3500 \nL 1159 3500 \nL 1159 2956 \nQ 1341 3275 1631 3429 \nQ 1922 3584 2338 3584 \nQ 2397 3584 2469 3576 \nQ 2541 3569 2628 3553 \nL 2631 2963 \nz\n\" id=\"DejaVuSans-72\" transform=\"scale(0.015625)\"/>\n       <path d=\"M 550 4863 \nL 1875 4863 \nL 1875 4416 \nL 1125 4416 \nL 1125 -397 \nL 1875 -397 \nL 1875 -844 \nL 550 -844 \nL 550 4863 \nz\n\" id=\"DejaVuSans-5b\" transform=\"scale(0.015625)\"/>\n       <path d=\"M 313 2009 \nL 1997 2009 \nL 1997 1497 \nL 313 1497 \nL 313 2009 \nz\n\" id=\"DejaVuSans-2d\" transform=\"scale(0.015625)\"/>\n       <path d=\"M -19 4666 \nL 3928 4666 \nL 3928 4134 \nL 2272 4134 \nL 2272 0 \nL 1638 0 \nL 1638 4134 \nL -19 4134 \nL -19 4666 \nz\n\" id=\"DejaVuSans-54\" transform=\"scale(0.015625)\"/>\n       <path d=\"M 544 1381 \nL 544 3500 \nL 1119 3500 \nL 1119 1403 \nQ 1119 906 1312 657 \nQ 1506 409 1894 409 \nQ 2359 409 2629 706 \nQ 2900 1003 2900 1516 \nL 2900 3500 \nL 3475 3500 \nL 3475 0 \nL 2900 0 \nL 2900 538 \nQ 2691 219 2414 64 \nQ 2138 -91 1772 -91 \nQ 1169 -91 856 284 \nQ 544 659 544 1381 \nz\nM 1991 3584 \nL 1991 3584 \nz\n\" id=\"DejaVuSans-75\" transform=\"scale(0.015625)\"/>\n       <path d=\"M 628 4666 \nL 1478 4666 \nL 3547 763 \nL 3547 4666 \nL 4159 4666 \nL 4159 0 \nL 3309 0 \nL 1241 3903 \nL 1241 0 \nL 628 0 \nL 628 4666 \nz\n\" id=\"DejaVuSans-4e\" transform=\"scale(0.015625)\"/>\n       <path d=\"M 2906 1791 \nQ 2906 2416 2648 2759 \nQ 2391 3103 1925 3103 \nQ 1463 3103 1205 2759 \nQ 947 2416 947 1791 \nQ 947 1169 1205 825 \nQ 1463 481 1925 481 \nQ 2391 481 2648 825 \nQ 2906 1169 2906 1791 \nz\nM 3481 434 \nQ 3481 -459 3084 -895 \nQ 2688 -1331 1869 -1331 \nQ 1566 -1331 1297 -1286 \nQ 1028 -1241 775 -1147 \nL 775 -588 \nQ 1028 -725 1275 -790 \nQ 1522 -856 1778 -856 \nQ 2344 -856 2625 -561 \nQ 2906 -266 2906 331 \nL 2906 616 \nQ 2728 306 2450 153 \nQ 2172 0 1784 0 \nQ 1141 0 747 490 \nQ 353 981 353 1791 \nQ 353 2603 747 3093 \nQ 1141 3584 1784 3584 \nQ 2172 3584 2450 3431 \nQ 2728 3278 2906 2969 \nL 2906 3500 \nL 3481 3500 \nL 3481 434 \nz\n\" id=\"DejaVuSans-67\" transform=\"scale(0.015625)\"/>\n       <path d=\"M 1947 4863 \nL 1947 -844 \nL 622 -844 \nL 622 -397 \nL 1369 -397 \nL 1369 4416 \nL 622 4416 \nL 622 4863 \nL 1947 4863 \nz\n\" id=\"DejaVuSans-5d\" transform=\"scale(0.015625)\"/>\n      </defs>\n      <use xlink:href=\"#DejaVuSans-46\"/>\n      <use x=\"48.394531\" xlink:href=\"#DejaVuSans-61\"/>\n      <use x=\"109.673828\" xlink:href=\"#DejaVuSans-6c\"/>\n      <use x=\"137.457031\" xlink:href=\"#DejaVuSans-73\"/>\n      <use x=\"189.556641\" xlink:href=\"#DejaVuSans-65\"/>\n      <use x=\"251.080078\" xlink:href=\"#DejaVuSans-20\"/>\n      <use x=\"282.867188\" xlink:href=\"#DejaVuSans-50\"/>\n      <use x=\"339.544922\" xlink:href=\"#DejaVuSans-6f\"/>\n      <use x=\"400.726562\" xlink:href=\"#DejaVuSans-73\"/>\n      <use x=\"452.826172\" xlink:href=\"#DejaVuSans-69\"/>\n      <use x=\"480.609375\" xlink:href=\"#DejaVuSans-74\"/>\n      <use x=\"519.818359\" xlink:href=\"#DejaVuSans-69\"/>\n      <use x=\"547.601562\" xlink:href=\"#DejaVuSans-76\"/>\n      <use x=\"606.78125\" xlink:href=\"#DejaVuSans-65\"/>\n      <use x=\"668.304688\" xlink:href=\"#DejaVuSans-20\"/>\n      <use x=\"700.091797\" xlink:href=\"#DejaVuSans-52\"/>\n      <use x=\"767.324219\" xlink:href=\"#DejaVuSans-61\"/>\n      <use x=\"828.603516\" xlink:href=\"#DejaVuSans-74\"/>\n      <use x=\"867.8125\" xlink:href=\"#DejaVuSans-65\"/>\n      <use x=\"929.335938\" xlink:href=\"#DejaVuSans-20\"/>\n      <use x=\"961.123047\" xlink:href=\"#DejaVuSans-6f\"/>\n      <use x=\"1022.304688\" xlink:href=\"#DejaVuSans-72\"/>\n      <use x=\"1063.417969\" xlink:href=\"#DejaVuSans-20\"/>\n      <use x=\"1095.205078\" xlink:href=\"#DejaVuSans-5b\"/>\n      <use x=\"1134.21875\" xlink:href=\"#DejaVuSans-31\"/>\n      <use x=\"1197.841797\" xlink:href=\"#DejaVuSans-20\"/>\n      <use x=\"1229.628906\" xlink:href=\"#DejaVuSans-2d\"/>\n      <use x=\"1265.712891\" xlink:href=\"#DejaVuSans-20\"/>\n      <use x=\"1297.5\" xlink:href=\"#DejaVuSans-54\"/>\n      <use x=\"1343.833984\" xlink:href=\"#DejaVuSans-72\"/>\n      <use x=\"1384.947266\" xlink:href=\"#DejaVuSans-75\"/>\n      <use x=\"1448.326172\" xlink:href=\"#DejaVuSans-65\"/>\n      <use x=\"1509.849609\" xlink:href=\"#DejaVuSans-20\"/>\n      <use x=\"1541.636719\" xlink:href=\"#DejaVuSans-4e\"/>\n      <use x=\"1616.441406\" xlink:href=\"#DejaVuSans-65\"/>\n      <use x=\"1677.964844\" xlink:href=\"#DejaVuSans-67\"/>\n      <use x=\"1741.441406\" xlink:href=\"#DejaVuSans-61\"/>\n      <use x=\"1802.720703\" xlink:href=\"#DejaVuSans-74\"/>\n      <use x=\"1841.929688\" xlink:href=\"#DejaVuSans-69\"/>\n      <use x=\"1869.712891\" xlink:href=\"#DejaVuSans-76\"/>\n      <use x=\"1928.892578\" xlink:href=\"#DejaVuSans-65\"/>\n      <use x=\"1990.416016\" xlink:href=\"#DejaVuSans-20\"/>\n      <use x=\"2022.203125\" xlink:href=\"#DejaVuSans-52\"/>\n      <use x=\"2089.435547\" xlink:href=\"#DejaVuSans-61\"/>\n      <use x=\"2150.714844\" xlink:href=\"#DejaVuSans-74\"/>\n      <use x=\"2189.923828\" xlink:href=\"#DejaVuSans-65\"/>\n      <use x=\"2251.447266\" xlink:href=\"#DejaVuSans-5d\"/>\n     </g>\n    </g>\n   </g>\n   <g id=\"matplotlib.axis_2\">\n    <g id=\"ytick_1\">\n     <g id=\"line2d_7\">\n      <defs>\n       <path d=\"M 0 0 \nL -3.5 0 \n\" id=\"m0f0c5202a9\" style=\"stroke:#000000;stroke-width:0.8;\"/>\n      </defs>\n      <g>\n       <use style=\"stroke:#000000;stroke-width:0.8;\" x=\"43.78125\" xlink:href=\"#m0f0c5202a9\" y=\"294.118125\"/>\n      </g>\n     </g>\n     <g id=\"text_8\">\n      <!-- 0.0 -->\n      <g transform=\"translate(20.878125 297.917344)scale(0.1 -0.1)\">\n       <use xlink:href=\"#DejaVuSans-30\"/>\n       <use x=\"63.623047\" xlink:href=\"#DejaVuSans-2e\"/>\n       <use x=\"95.410156\" xlink:href=\"#DejaVuSans-30\"/>\n      </g>\n     </g>\n    </g>\n    <g id=\"ytick_2\">\n     <g id=\"line2d_8\">\n      <g>\n       <use style=\"stroke:#000000;stroke-width:0.8;\" x=\"43.78125\" xlink:href=\"#m0f0c5202a9\" y=\"242.346696\"/>\n      </g>\n     </g>\n     <g id=\"text_9\">\n      <!-- 0.2 -->\n      <g transform=\"translate(20.878125 246.145915)scale(0.1 -0.1)\">\n       <use xlink:href=\"#DejaVuSans-30\"/>\n       <use x=\"63.623047\" xlink:href=\"#DejaVuSans-2e\"/>\n       <use x=\"95.410156\" xlink:href=\"#DejaVuSans-32\"/>\n      </g>\n     </g>\n    </g>\n    <g id=\"ytick_3\">\n     <g id=\"line2d_9\">\n      <g>\n       <use style=\"stroke:#000000;stroke-width:0.8;\" x=\"43.78125\" xlink:href=\"#m0f0c5202a9\" y=\"190.575268\"/>\n      </g>\n     </g>\n     <g id=\"text_10\">\n      <!-- 0.4 -->\n      <g transform=\"translate(20.878125 194.374487)scale(0.1 -0.1)\">\n       <use xlink:href=\"#DejaVuSans-30\"/>\n       <use x=\"63.623047\" xlink:href=\"#DejaVuSans-2e\"/>\n       <use x=\"95.410156\" xlink:href=\"#DejaVuSans-34\"/>\n      </g>\n     </g>\n    </g>\n    <g id=\"ytick_4\">\n     <g id=\"line2d_10\">\n      <g>\n       <use style=\"stroke:#000000;stroke-width:0.8;\" x=\"43.78125\" xlink:href=\"#m0f0c5202a9\" y=\"138.803839\"/>\n      </g>\n     </g>\n     <g id=\"text_11\">\n      <!-- 0.6 -->\n      <g transform=\"translate(20.878125 142.603058)scale(0.1 -0.1)\">\n       <use xlink:href=\"#DejaVuSans-30\"/>\n       <use x=\"63.623047\" xlink:href=\"#DejaVuSans-2e\"/>\n       <use x=\"95.410156\" xlink:href=\"#DejaVuSans-36\"/>\n      </g>\n     </g>\n    </g>\n    <g id=\"ytick_5\">\n     <g id=\"line2d_11\">\n      <g>\n       <use style=\"stroke:#000000;stroke-width:0.8;\" x=\"43.78125\" xlink:href=\"#m0f0c5202a9\" y=\"87.032411\"/>\n      </g>\n     </g>\n     <g id=\"text_12\">\n      <!-- 0.8 -->\n      <g transform=\"translate(20.878125 90.831629)scale(0.1 -0.1)\">\n       <use xlink:href=\"#DejaVuSans-30\"/>\n       <use x=\"63.623047\" xlink:href=\"#DejaVuSans-2e\"/>\n       <use x=\"95.410156\" xlink:href=\"#DejaVuSans-38\"/>\n      </g>\n     </g>\n    </g>\n    <g id=\"ytick_6\">\n     <g id=\"line2d_12\">\n      <g>\n       <use style=\"stroke:#000000;stroke-width:0.8;\" x=\"43.78125\" xlink:href=\"#m0f0c5202a9\" y=\"35.260982\"/>\n      </g>\n     </g>\n     <g id=\"text_13\">\n      <!-- 1.0 -->\n      <g transform=\"translate(20.878125 39.060201)scale(0.1 -0.1)\">\n       <use xlink:href=\"#DejaVuSans-31\"/>\n       <use x=\"63.623047\" xlink:href=\"#DejaVuSans-2e\"/>\n       <use x=\"95.410156\" xlink:href=\"#DejaVuSans-30\"/>\n      </g>\n     </g>\n    </g>\n    <g id=\"text_14\">\n     <!-- True Positive Rate -->\n     <g transform=\"translate(14.798438 202.747813)rotate(-90)scale(0.1 -0.1)\">\n      <use xlink:href=\"#DejaVuSans-54\"/>\n      <use x=\"46.333984\" xlink:href=\"#DejaVuSans-72\"/>\n      <use x=\"87.447266\" xlink:href=\"#DejaVuSans-75\"/>\n      <use x=\"150.826172\" xlink:href=\"#DejaVuSans-65\"/>\n      <use x=\"212.349609\" xlink:href=\"#DejaVuSans-20\"/>\n      <use x=\"244.136719\" xlink:href=\"#DejaVuSans-50\"/>\n      <use x=\"300.814453\" xlink:href=\"#DejaVuSans-6f\"/>\n      <use x=\"361.996094\" xlink:href=\"#DejaVuSans-73\"/>\n      <use x=\"414.095703\" xlink:href=\"#DejaVuSans-69\"/>\n      <use x=\"441.878906\" xlink:href=\"#DejaVuSans-74\"/>\n      <use x=\"481.087891\" xlink:href=\"#DejaVuSans-69\"/>\n      <use x=\"508.871094\" xlink:href=\"#DejaVuSans-76\"/>\n      <use x=\"568.050781\" xlink:href=\"#DejaVuSans-65\"/>\n      <use x=\"629.574219\" xlink:href=\"#DejaVuSans-20\"/>\n      <use x=\"661.361328\" xlink:href=\"#DejaVuSans-52\"/>\n      <use x=\"728.59375\" xlink:href=\"#DejaVuSans-61\"/>\n      <use x=\"789.873047\" xlink:href=\"#DejaVuSans-74\"/>\n      <use x=\"829.082031\" xlink:href=\"#DejaVuSans-65\"/>\n     </g>\n    </g>\n   </g>\n   <g id=\"line2d_13\">\n    <path clip-path=\"url(#p2919695754)\" d=\"M 43.78125 294.118125 \nL 44.784847 294.118125 \nL 44.784847 269.617243 \nL 45.788444 269.617243 \nL 45.788444 235.52906 \nL 46.792041 235.52906 \nL 46.792041 208.897666 \nL 47.795638 208.897666 \nL 47.795638 181.201017 \nL 49.802833 181.201017 \nL 49.802833 180.135762 \nL 50.80643 180.135762 \nL 50.80643 173.744227 \nL 51.810027 173.744227 \nL 51.810027 172.678972 \nL 52.813624 172.678972 \nL 52.813624 169.483204 \nL 53.817221 169.483204 \nL 53.817221 162.026414 \nL 54.820818 162.026414 \nL 54.820818 155.63488 \nL 56.828013 155.63488 \nL 56.828013 154.569624 \nL 57.83161 154.569624 \nL 57.83161 152.439113 \nL 59.838804 152.439113 \nL 59.838804 143.917067 \nL 60.842401 143.917067 \nL 60.842401 141.786555 \nL 62.849595 141.786555 \nL 62.849595 140.7213 \nL 63.853192 140.7213 \nL 63.853192 138.590788 \nL 64.85679 138.590788 \nL 64.85679 130.068742 \nL 65.860387 130.068742 \nL 65.860387 126.872975 \nL 66.863984 126.872975 \nL 66.863984 119.416185 \nL 67.867581 119.416185 \nL 67.867581 118.350929 \nL 68.871178 118.350929 \nL 68.871178 109.828883 \nL 70.878372 109.828883 \nL 70.878372 107.698372 \nL 72.885567 107.698372 \nL 72.885567 103.437349 \nL 76.899955 103.437349 \nL 76.899955 98.11107 \nL 79.910746 98.11107 \nL 79.910746 95.980559 \nL 80.914344 95.980559 \nL 80.914344 94.915303 \nL 82.921538 94.915303 \nL 82.921538 93.850047 \nL 83.925135 93.850047 \nL 83.925135 90.65428 \nL 84.928732 90.65428 \nL 84.928732 89.589024 \nL 86.935926 89.589024 \nL 86.935926 87.458513 \nL 87.939523 87.458513 \nL 87.939523 86.393257 \nL 88.943121 86.393257 \nL 102.99348 85.328002 \nL 102.99348 83.19749 \nL 109.015063 83.19749 \nL 109.015063 82.132234 \nL 110.01866 82.132234 \nL 110.01866 81.066979 \nL 113.029451 81.066979 \nL 113.029451 80.001723 \nL 116.040243 80.001723 \nL 116.040243 77.871211 \nL 124.06902 77.871211 \nL 124.06902 74.675444 \nL 126.076214 74.675444 \nL 126.076214 73.610188 \nL 131.0942 73.610188 \nL 131.0942 72.544933 \nL 133.101394 72.544933 \nL 133.101394 71.479677 \nL 138.119379 71.479677 \nL 138.119379 69.349166 \nL 142.133768 69.349166 \nL 142.133768 68.28391 \nL 149.158948 68.28391 \nL 149.158948 66.153398 \nL 151.166142 66.153398 \nL 151.166142 65.088143 \nL 164.212905 65.088143 \nL 164.212905 64.022887 \nL 174.248876 64.022887 \nL 174.248876 62.957631 \nL 185.288444 62.957631 \nL 185.288444 61.892375 \nL 186.292041 61.892375 \nL 186.292041 60.82712 \nL 191.310027 60.82712 \nL 191.310027 59.761864 \nL 196.328013 59.761864 \nL 196.328013 58.696608 \nL 202.349595 58.696608 \nL 202.349595 57.631353 \nL 204.35679 57.631353 \nL 204.35679 56.566097 \nL 210.378372 56.566097 \nL 210.378372 55.500841 \nL 216.399955 55.500841 \nL 216.399955 54.435585 \nL 222.421538 54.435585 \nL 222.421538 52.305074 \nL 224.428732 52.305074 \nL 224.428732 48.044051 \nL 228.443121 48.044051 \nL 228.443121 46.978795 \nL 247.511466 46.978795 \nL 247.511466 45.913539 \nL 250.522257 45.913539 \nL 250.522257 44.848284 \nL 258.551034 44.848284 \nL 258.551034 42.717772 \nL 285.648156 42.717772 \nL 285.648156 41.652517 \nL 299.698516 41.652517 \nL 299.698516 40.587261 \nL 303.712905 40.587261 \nL 303.712905 39.522005 \nL 316.759667 39.522005 \nL 316.759667 38.456749 \nL 319.770459 38.456749 \nL 319.770459 37.391494 \nL 320.774056 37.391494 \nL 320.774056 35.260982 \nL 322.78125 35.260982 \nL 322.78125 35.260982 \n\" style=\"fill:none;stroke:#1f77b4;stroke-linecap:square;stroke-width:1.5;\"/>\n   </g>\n   <g id=\"line2d_14\">\n    <path clip-path=\"url(#p2919695754)\" d=\"M 43.78125 294.118125 \nL 322.78125 35.260982 \n\" style=\"fill:none;stroke:#ff0000;stroke-dasharray:5.55,2.4;stroke-dashoffset:0;stroke-width:1.5;\"/>\n   </g>\n   <g id=\"patch_3\">\n    <path d=\"M 43.78125 294.118125 \nL 43.78125 22.318125 \n\" style=\"fill:none;stroke:#000000;stroke-linecap:square;stroke-linejoin:miter;stroke-width:0.8;\"/>\n   </g>\n   <g id=\"patch_4\">\n    <path d=\"M 322.78125 294.118125 \nL 322.78125 22.318125 \n\" style=\"fill:none;stroke:#000000;stroke-linecap:square;stroke-linejoin:miter;stroke-width:0.8;\"/>\n   </g>\n   <g id=\"patch_5\">\n    <path d=\"M 43.78125 294.118125 \nL 322.78125 294.118125 \n\" style=\"fill:none;stroke:#000000;stroke-linecap:square;stroke-linejoin:miter;stroke-width:0.8;\"/>\n   </g>\n   <g id=\"patch_6\">\n    <path d=\"M 43.78125 22.318125 \nL 322.78125 22.318125 \n\" style=\"fill:none;stroke:#000000;stroke-linecap:square;stroke-linejoin:miter;stroke-width:0.8;\"/>\n   </g>\n   <g id=\"text_15\">\n    <!-- Receiver operating characteristic -->\n    <g transform=\"translate(83.720625 16.318125)scale(0.12 -0.12)\">\n     <defs>\n      <path d=\"M 3122 3366 \nL 3122 2828 \nQ 2878 2963 2633 3030 \nQ 2388 3097 2138 3097 \nQ 1578 3097 1268 2742 \nQ 959 2388 959 1747 \nQ 959 1106 1268 751 \nQ 1578 397 2138 397 \nQ 2388 397 2633 464 \nQ 2878 531 3122 666 \nL 3122 134 \nQ 2881 22 2623 -34 \nQ 2366 -91 2075 -91 \nQ 1284 -91 818 406 \nQ 353 903 353 1747 \nQ 353 2603 823 3093 \nQ 1294 3584 2113 3584 \nQ 2378 3584 2631 3529 \nQ 2884 3475 3122 3366 \nz\n\" id=\"DejaVuSans-63\" transform=\"scale(0.015625)\"/>\n      <path d=\"M 1159 525 \nL 1159 -1331 \nL 581 -1331 \nL 581 3500 \nL 1159 3500 \nL 1159 2969 \nQ 1341 3281 1617 3432 \nQ 1894 3584 2278 3584 \nQ 2916 3584 3314 3078 \nQ 3713 2572 3713 1747 \nQ 3713 922 3314 415 \nQ 2916 -91 2278 -91 \nQ 1894 -91 1617 61 \nQ 1341 213 1159 525 \nz\nM 3116 1747 \nQ 3116 2381 2855 2742 \nQ 2594 3103 2138 3103 \nQ 1681 3103 1420 2742 \nQ 1159 2381 1159 1747 \nQ 1159 1113 1420 752 \nQ 1681 391 2138 391 \nQ 2594 391 2855 752 \nQ 3116 1113 3116 1747 \nz\n\" id=\"DejaVuSans-70\" transform=\"scale(0.015625)\"/>\n      <path d=\"M 3513 2113 \nL 3513 0 \nL 2938 0 \nL 2938 2094 \nQ 2938 2591 2744 2837 \nQ 2550 3084 2163 3084 \nQ 1697 3084 1428 2787 \nQ 1159 2491 1159 1978 \nL 1159 0 \nL 581 0 \nL 581 3500 \nL 1159 3500 \nL 1159 2956 \nQ 1366 3272 1645 3428 \nQ 1925 3584 2291 3584 \nQ 2894 3584 3203 3211 \nQ 3513 2838 3513 2113 \nz\n\" id=\"DejaVuSans-6e\" transform=\"scale(0.015625)\"/>\n      <path d=\"M 3513 2113 \nL 3513 0 \nL 2938 0 \nL 2938 2094 \nQ 2938 2591 2744 2837 \nQ 2550 3084 2163 3084 \nQ 1697 3084 1428 2787 \nQ 1159 2491 1159 1978 \nL 1159 0 \nL 581 0 \nL 581 4863 \nL 1159 4863 \nL 1159 2956 \nQ 1366 3272 1645 3428 \nQ 1925 3584 2291 3584 \nQ 2894 3584 3203 3211 \nQ 3513 2838 3513 2113 \nz\n\" id=\"DejaVuSans-68\" transform=\"scale(0.015625)\"/>\n     </defs>\n     <use xlink:href=\"#DejaVuSans-52\"/>\n     <use x=\"64.982422\" xlink:href=\"#DejaVuSans-65\"/>\n     <use x=\"126.505859\" xlink:href=\"#DejaVuSans-63\"/>\n     <use x=\"181.486328\" xlink:href=\"#DejaVuSans-65\"/>\n     <use x=\"243.009766\" xlink:href=\"#DejaVuSans-69\"/>\n     <use x=\"270.792969\" xlink:href=\"#DejaVuSans-76\"/>\n     <use x=\"329.972656\" xlink:href=\"#DejaVuSans-65\"/>\n     <use x=\"391.496094\" xlink:href=\"#DejaVuSans-72\"/>\n     <use x=\"432.609375\" xlink:href=\"#DejaVuSans-20\"/>\n     <use x=\"464.396484\" xlink:href=\"#DejaVuSans-6f\"/>\n     <use x=\"525.578125\" xlink:href=\"#DejaVuSans-70\"/>\n     <use x=\"589.054688\" xlink:href=\"#DejaVuSans-65\"/>\n     <use x=\"650.578125\" xlink:href=\"#DejaVuSans-72\"/>\n     <use x=\"691.691406\" xlink:href=\"#DejaVuSans-61\"/>\n     <use x=\"752.970703\" xlink:href=\"#DejaVuSans-74\"/>\n     <use x=\"792.179688\" xlink:href=\"#DejaVuSans-69\"/>\n     <use x=\"819.962891\" xlink:href=\"#DejaVuSans-6e\"/>\n     <use x=\"883.341797\" xlink:href=\"#DejaVuSans-67\"/>\n     <use x=\"946.818359\" xlink:href=\"#DejaVuSans-20\"/>\n     <use x=\"978.605469\" xlink:href=\"#DejaVuSans-63\"/>\n     <use x=\"1033.585938\" xlink:href=\"#DejaVuSans-68\"/>\n     <use x=\"1096.964844\" xlink:href=\"#DejaVuSans-61\"/>\n     <use x=\"1158.244141\" xlink:href=\"#DejaVuSans-72\"/>\n     <use x=\"1199.357422\" xlink:href=\"#DejaVuSans-61\"/>\n     <use x=\"1260.636719\" xlink:href=\"#DejaVuSans-63\"/>\n     <use x=\"1315.617188\" xlink:href=\"#DejaVuSans-74\"/>\n     <use x=\"1354.826172\" xlink:href=\"#DejaVuSans-65\"/>\n     <use x=\"1416.349609\" xlink:href=\"#DejaVuSans-72\"/>\n     <use x=\"1457.462891\" xlink:href=\"#DejaVuSans-69\"/>\n     <use x=\"1485.246094\" xlink:href=\"#DejaVuSans-73\"/>\n     <use x=\"1537.345703\" xlink:href=\"#DejaVuSans-74\"/>\n     <use x=\"1576.554688\" xlink:href=\"#DejaVuSans-69\"/>\n     <use x=\"1604.337891\" xlink:href=\"#DejaVuSans-63\"/>\n    </g>\n   </g>\n   <g id=\"legend_1\">\n    <g id=\"patch_7\">\n     <path d=\"M 82.25 289.118125 \nL 315.78125 289.118125 \nQ 317.78125 289.118125 317.78125 287.118125 \nL 317.78125 273.44 \nQ 317.78125 271.44 315.78125 271.44 \nL 82.25 271.44 \nQ 80.25 271.44 80.25 273.44 \nL 80.25 287.118125 \nQ 80.25 289.118125 82.25 289.118125 \nz\n\" style=\"fill:#ffffff;opacity:0.8;stroke:#cccccc;stroke-linejoin:miter;\"/>\n    </g>\n    <g id=\"line2d_15\">\n     <path d=\"M 84.25 279.538437 \nL 104.25 279.538437 \n\" style=\"fill:none;stroke:#1f77b4;stroke-linecap:square;stroke-width:1.5;\"/>\n    </g>\n    <g id=\"line2d_16\"/>\n    <g id=\"text_16\">\n     <!-- Random forest Regression (area = 0.82) -->\n     <g transform=\"translate(112.25 283.038437)scale(0.1 -0.1)\">\n      <defs>\n       <path d=\"M 2906 2969 \nL 2906 4863 \nL 3481 4863 \nL 3481 0 \nL 2906 0 \nL 2906 525 \nQ 2725 213 2448 61 \nQ 2172 -91 1784 -91 \nQ 1150 -91 751 415 \nQ 353 922 353 1747 \nQ 353 2572 751 3078 \nQ 1150 3584 1784 3584 \nQ 2172 3584 2448 3432 \nQ 2725 3281 2906 2969 \nz\nM 947 1747 \nQ 947 1113 1208 752 \nQ 1469 391 1925 391 \nQ 2381 391 2643 752 \nQ 2906 1113 2906 1747 \nQ 2906 2381 2643 2742 \nQ 2381 3103 1925 3103 \nQ 1469 3103 1208 2742 \nQ 947 2381 947 1747 \nz\n\" id=\"DejaVuSans-64\" transform=\"scale(0.015625)\"/>\n       <path d=\"M 3328 2828 \nQ 3544 3216 3844 3400 \nQ 4144 3584 4550 3584 \nQ 5097 3584 5394 3201 \nQ 5691 2819 5691 2113 \nL 5691 0 \nL 5113 0 \nL 5113 2094 \nQ 5113 2597 4934 2840 \nQ 4756 3084 4391 3084 \nQ 3944 3084 3684 2787 \nQ 3425 2491 3425 1978 \nL 3425 0 \nL 2847 0 \nL 2847 2094 \nQ 2847 2600 2669 2842 \nQ 2491 3084 2119 3084 \nQ 1678 3084 1418 2786 \nQ 1159 2488 1159 1978 \nL 1159 0 \nL 581 0 \nL 581 3500 \nL 1159 3500 \nL 1159 2956 \nQ 1356 3278 1631 3431 \nQ 1906 3584 2284 3584 \nQ 2666 3584 2933 3390 \nQ 3200 3197 3328 2828 \nz\n\" id=\"DejaVuSans-6d\" transform=\"scale(0.015625)\"/>\n       <path d=\"M 2375 4863 \nL 2375 4384 \nL 1825 4384 \nQ 1516 4384 1395 4259 \nQ 1275 4134 1275 3809 \nL 1275 3500 \nL 2222 3500 \nL 2222 3053 \nL 1275 3053 \nL 1275 0 \nL 697 0 \nL 697 3053 \nL 147 3053 \nL 147 3500 \nL 697 3500 \nL 697 3744 \nQ 697 4328 969 4595 \nQ 1241 4863 1831 4863 \nL 2375 4863 \nz\n\" id=\"DejaVuSans-66\" transform=\"scale(0.015625)\"/>\n       <path d=\"M 1984 4856 \nQ 1566 4138 1362 3434 \nQ 1159 2731 1159 2009 \nQ 1159 1288 1364 580 \nQ 1569 -128 1984 -844 \nL 1484 -844 \nQ 1016 -109 783 600 \nQ 550 1309 550 2009 \nQ 550 2706 781 3412 \nQ 1013 4119 1484 4856 \nL 1984 4856 \nz\n\" id=\"DejaVuSans-28\" transform=\"scale(0.015625)\"/>\n       <path d=\"M 678 2906 \nL 4684 2906 \nL 4684 2381 \nL 678 2381 \nL 678 2906 \nz\nM 678 1631 \nL 4684 1631 \nL 4684 1100 \nL 678 1100 \nL 678 1631 \nz\n\" id=\"DejaVuSans-3d\" transform=\"scale(0.015625)\"/>\n       <path d=\"M 513 4856 \nL 1013 4856 \nQ 1481 4119 1714 3412 \nQ 1947 2706 1947 2009 \nQ 1947 1309 1714 600 \nQ 1481 -109 1013 -844 \nL 513 -844 \nQ 928 -128 1133 580 \nQ 1338 1288 1338 2009 \nQ 1338 2731 1133 3434 \nQ 928 4138 513 4856 \nz\n\" id=\"DejaVuSans-29\" transform=\"scale(0.015625)\"/>\n      </defs>\n      <use xlink:href=\"#DejaVuSans-52\"/>\n      <use x=\"67.232422\" xlink:href=\"#DejaVuSans-61\"/>\n      <use x=\"128.511719\" xlink:href=\"#DejaVuSans-6e\"/>\n      <use x=\"191.890625\" xlink:href=\"#DejaVuSans-64\"/>\n      <use x=\"255.367188\" xlink:href=\"#DejaVuSans-6f\"/>\n      <use x=\"316.548828\" xlink:href=\"#DejaVuSans-6d\"/>\n      <use x=\"413.960938\" xlink:href=\"#DejaVuSans-20\"/>\n      <use x=\"445.748047\" xlink:href=\"#DejaVuSans-66\"/>\n      <use x=\"480.953125\" xlink:href=\"#DejaVuSans-6f\"/>\n      <use x=\"542.134766\" xlink:href=\"#DejaVuSans-72\"/>\n      <use x=\"580.998047\" xlink:href=\"#DejaVuSans-65\"/>\n      <use x=\"642.521484\" xlink:href=\"#DejaVuSans-73\"/>\n      <use x=\"694.621094\" xlink:href=\"#DejaVuSans-74\"/>\n      <use x=\"733.830078\" xlink:href=\"#DejaVuSans-20\"/>\n      <use x=\"765.617188\" xlink:href=\"#DejaVuSans-52\"/>\n      <use x=\"830.599609\" xlink:href=\"#DejaVuSans-65\"/>\n      <use x=\"892.123047\" xlink:href=\"#DejaVuSans-67\"/>\n      <use x=\"955.599609\" xlink:href=\"#DejaVuSans-72\"/>\n      <use x=\"994.462891\" xlink:href=\"#DejaVuSans-65\"/>\n      <use x=\"1055.986328\" xlink:href=\"#DejaVuSans-73\"/>\n      <use x=\"1108.085938\" xlink:href=\"#DejaVuSans-73\"/>\n      <use x=\"1160.185547\" xlink:href=\"#DejaVuSans-69\"/>\n      <use x=\"1187.96875\" xlink:href=\"#DejaVuSans-6f\"/>\n      <use x=\"1249.150391\" xlink:href=\"#DejaVuSans-6e\"/>\n      <use x=\"1312.529297\" xlink:href=\"#DejaVuSans-20\"/>\n      <use x=\"1344.316406\" xlink:href=\"#DejaVuSans-28\"/>\n      <use x=\"1383.330078\" xlink:href=\"#DejaVuSans-61\"/>\n      <use x=\"1444.609375\" xlink:href=\"#DejaVuSans-72\"/>\n      <use x=\"1483.472656\" xlink:href=\"#DejaVuSans-65\"/>\n      <use x=\"1544.996094\" xlink:href=\"#DejaVuSans-61\"/>\n      <use x=\"1606.275391\" xlink:href=\"#DejaVuSans-20\"/>\n      <use x=\"1638.0625\" xlink:href=\"#DejaVuSans-3d\"/>\n      <use x=\"1721.851562\" xlink:href=\"#DejaVuSans-20\"/>\n      <use x=\"1753.638672\" xlink:href=\"#DejaVuSans-30\"/>\n      <use x=\"1817.261719\" xlink:href=\"#DejaVuSans-2e\"/>\n      <use x=\"1849.048828\" xlink:href=\"#DejaVuSans-38\"/>\n      <use x=\"1912.671875\" xlink:href=\"#DejaVuSans-32\"/>\n      <use x=\"1976.294922\" xlink:href=\"#DejaVuSans-29\"/>\n     </g>\n    </g>\n   </g>\n  </g>\n </g>\n <defs>\n  <clipPath id=\"p2919695754\">\n   <rect height=\"271.8\" width=\"279\" x=\"43.78125\" y=\"22.318125\"/>\n  </clipPath>\n </defs>\n</svg>\n",
            "image/png": "[encoded data removed]"
          },
          "metadata": {
            "needs_background": "light"
          }
        }
      ],
      "source": [
        "# ROC curve for sklearn random forest regression\n",
        "from sklearn.metrics import roc_auc_score\n",
        "from sklearn.metrics import roc_curve\n",
        "auc_score = roc_auc_score(y_test, log_skmodel.predict(X_test))\n",
        "fpr, tpr, thresholds = roc_curve(y_test, log_skmodel.predict_proba(X_test)[:,1],drop_intermediate = False)\n",
        "plt.figure(figsize=(5, 5))\n",
        "plt.plot(fpr, tpr, label='Random forest Regression (area = %0.2f)' % auc_score)\n",
        "plt.plot([0, 1], [0, 1],'r--')\n",
        "plt.xlim([0.0, 1.0])\n",
        "plt.ylim([0.0, 1.05])\n",
        "plt.xlabel('False Positive Rate or [1 - True Negative Rate]')\n",
        "plt.ylabel('True Positive Rate')\n",
        "plt.title('Receiver operating characteristic')\n",
        "plt.legend(loc=\"lower right\")\n",
        "plt.show()"
      ]
    }
  ]
}