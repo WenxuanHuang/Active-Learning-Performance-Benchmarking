{
 "cells": [
  {
   "cell_type": "code",
   "execution_count": 1,
   "source": [
    "import numpy as np\n",
    "import pandas as pd\n",
    "\n",
    "a = np.zeros((6,2))\n",
    "b = np.ones(6)\n",
    "d = np.zeros(6)\n",
    "\n",
    "c = np.c_[a,b,d]\n",
    "\n",
    "df = pd.DataFrame(data=c)\n",
    "\n",
    "print(df.index.values)"
   ],
   "outputs": [
    {
     "output_type": "error",
     "ename": "ModuleNotFoundError",
     "evalue": "No module named 'cvxpy'",
     "traceback": [
      "\u001b[0;31m---------------------------------------------------------------------------\u001b[0m",
      "\u001b[0;31mModuleNotFoundError\u001b[0m                       Traceback (most recent call last)",
      "\u001b[0;32m/var/folders/pc/f0ds212x5ql14xc9444c5gv00000gn/T/ipykernel_85257/2029574273.py\u001b[0m in \u001b[0;36m<module>\u001b[0;34m\u001b[0m\n\u001b[0;32m----> 1\u001b[0;31m \u001b[0;32mimport\u001b[0m \u001b[0mcvxpy\u001b[0m \u001b[0;32mas\u001b[0m \u001b[0mcp\u001b[0m\u001b[0;34m\u001b[0m\u001b[0;34m\u001b[0m\u001b[0m\n\u001b[0m\u001b[1;32m      2\u001b[0m \u001b[0;32mimport\u001b[0m \u001b[0mnumpy\u001b[0m \u001b[0;32mas\u001b[0m \u001b[0mnp\u001b[0m\u001b[0;34m\u001b[0m\u001b[0;34m\u001b[0m\u001b[0m\n",
      "\u001b[0;31mModuleNotFoundError\u001b[0m: No module named 'cvxpy'"
     ]
    }
   ],
   "metadata": {}
  },
  {
   "cell_type": "code",
   "execution_count": null,
   "source": [
    "import numpy as np\n",
    "\n",
    "a = np.array([[1,7,8,7,6],[2,7,8,7,6],[3,7,8,7,6],[4,7,8,7,6],[5,7,8,7,6]])\n",
    "b = [0,1,1,1,0]\n",
    "\n",
    "c = np.array([a[b==i] for i in np.unique(b)], dtype=object)\n",
    "\n",
    "print(c)"
   ],
   "outputs": [],
   "metadata": {}
  },
  {
   "cell_type": "code",
   "execution_count": null,
   "source": [
    "import numpy as np\n",
    "\n",
    "a = np.array([0,0,1,1,0,1,0,1])\n",
    "c = np.where(a > 0,0,1)\n",
    "\n",
    "print(c)\n",
    "\n",
    "b = np.nonzero(c)\n",
    "\n",
    "print(b)"
   ],
   "outputs": [],
   "metadata": {}
  },
  {
   "cell_type": "code",
   "execution_count": null,
   "source": [
    "import numpy as np\n",
    "import math\n",
    "\n",
    "b = 200\n",
    "alp=[0.1,0.2,0.3,0.4,0.5,0.6,0.7,0.8,0.9]\n",
    "\n",
    "for t in range(len(alp)):\n",
    "    alpha=np.linspace(1,0,10,endpoint=False)*alp[t]\n",
    "    print(\"Alpha is:\", alpha)\n",
    "    for Iter in range(b):\n",
    "        a=alpha[min(9,math.floor(Iter/int(b/10)))]\n",
    "        print(\"a is:\", a)"
   ],
   "outputs": [],
   "metadata": {}
  }
 ],
 "metadata": {
  "orig_nbformat": 4,
  "language_info": {
   "name": "python",
   "version": "3.8.2",
   "mimetype": "text/x-python",
   "codemirror_mode": {
    "name": "ipython",
    "version": 3
   },
   "pygments_lexer": "ipython3",
   "nbconvert_exporter": "python",
   "file_extension": ".py"
  },
  "kernelspec": {
   "name": "python3",
   "display_name": "Python 3.8.2 64-bit ('ML-for-COVID-19-dataset': venv)"
  },
  "interpreter": {
   "hash": "a2ef89d34cbfddaf50816f8d91581a3ca0913b9280767ed31a38c2db7dcc022c"
  }
 },
 "nbformat": 4,
 "nbformat_minor": 2
}