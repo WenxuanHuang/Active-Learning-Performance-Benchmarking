{
 "cells": [
  {
   "cell_type": "code",
   "execution_count": 34,
   "metadata": {},
   "outputs": [
    {
     "name": "stdout",
     "output_type": "stream",
     "text": [
      "Automatically created module for IPython interactive environment\n"
     ]
    }
   ],
   "source": [
    "print(__doc__)\n",
    "import pandas as pd\n",
    "import numpy as np\n",
    "import matplotlib.pyplot as plt\n",
    "from matplotlib.patches import Rectangle\n",
    "from matplotlib.lines import Line2D\n",
    "import glob\n",
    "import os\n",
    "pd.options.display.float_format = \"{:.4f}\".format\n",
    "pd.set_option(\"display.max_rows\", None, \"display.max_columns\", None)"
   ]
  },
  {
   "cell_type": "code",
   "execution_count": 35,
   "metadata": {},
   "outputs": [],
   "source": [
    "def boxplot(x, y, ax, theme = 'b', whis = 1.5):\n",
    "\n",
    "    xlimits = [np.percentile(x, q) for q in (25, 50, 75)]\n",
    "    ylimits = [np.percentile(y, q) for q in (25, 50, 75)]\n",
    "    ##the box\n",
    "    box = Rectangle(\n",
    "        (xlimits[0],ylimits[0]),\n",
    "        (xlimits[2]-xlimits[0]),\n",
    "        (ylimits[2]-ylimits[0]),\n",
    "        facecolor = theme, alpha = 0.3, edgecolor = theme, lw = 0.5, zorder=0)\n",
    "    ax.add_patch(box)\n",
    "    ##the x median\n",
    "    vline = Line2D(\n",
    "        [xlimits[1],xlimits[1]],[ylimits[0],ylimits[2]],\n",
    "        color=theme, lw = 0.5, zorder=1)\n",
    "    ax.add_line(vline)\n",
    "    ##the y median\n",
    "    hline = Line2D(\n",
    "        [xlimits[0],xlimits[2]],[ylimits[1],ylimits[1]],\n",
    "        color=theme, lw = 0.5, zorder=1)\n",
    "    ax.add_line(hline)\n",
    "    ##the central point\n",
    "    ax.plot([xlimits[1]],[ylimits[1]], color='0.3', marker='o')\n",
    "\n",
    "    ##the x-whisker\n",
    "    iqr = xlimits[2]-xlimits[0]\n",
    "\n",
    "    ##left\n",
    "    left = np.min(np.array(x)[x > xlimits[0]-whis*iqr])\n",
    "    whisker_line = Line2D(\n",
    "        [left, xlimits[0]], [ylimits[1],ylimits[1]],\n",
    "        color = theme, lw = 0.5, zorder = 1)\n",
    "    ax.add_line(whisker_line)\n",
    "    whisker_bar = Line2D(\n",
    "        [left, left], [ylimits[0],ylimits[2]],\n",
    "        color = theme, lw = 0.5, zorder = 1 )\n",
    "    ax.add_line(whisker_bar)\n",
    "    ##right\n",
    "    right = np.max(np.array(x)[x < xlimits[2]+whis*iqr])\n",
    "    whisker_line = Line2D(\n",
    "        [right, xlimits[2]], [ylimits[1],ylimits[1]],\n",
    "        color = theme, lw = 0.5, zorder = 1)\n",
    "    ax.add_line(whisker_line)\n",
    "    whisker_bar = Line2D(\n",
    "        [right, right], [ylimits[0],ylimits[2]],\n",
    "        color = theme, lw = 0.5, zorder = 1 )\n",
    "    ax.add_line(whisker_bar)\n",
    "    ##the y-whisker\n",
    "    iqr = ylimits[2]-ylimits[0]\n",
    "    ##bottom\n",
    "    bottom = np.min(np.array(y)[y > ylimits[0]-whis*iqr])\n",
    "    whisker_line = Line2D(\n",
    "        [xlimits[1],xlimits[1]], [bottom, ylimits[0]], \n",
    "        color = theme, lw = 0.5, zorder = 1)\n",
    "    ax.add_line(whisker_line)\n",
    "    whisker_bar = Line2D(\n",
    "        [xlimits[0],xlimits[2]], [bottom, bottom], \n",
    "        color = theme, lw = 0.5, zorder = 1 )\n",
    "    ax.add_line(whisker_bar)\n",
    "    ##top\n",
    "    top = np.max(np.array(y)[y < ylimits[2]+whis*iqr])\n",
    "    whisker_line = Line2D(\n",
    "        [xlimits[1],xlimits[1]], [top, ylimits[2]], \n",
    "        color = theme, lw = 0.5, zorder = 1)\n",
    "    ax.add_line(whisker_line)\n",
    "    whisker_bar = Line2D(\n",
    "        [xlimits[0],xlimits[2]], [top, top], \n",
    "        color = theme, lw = 0.5, zorder = 1)\n",
    "    ax.add_line(whisker_bar)\n",
    "    ##outliers\n",
    "    mask = (x<left)|(x>right)|(y<bottom)|(y>top)\n",
    "    ax.scatter(\n",
    "        np.array(x)[mask],np.array(y)[mask],lw = 0.5,\n",
    "        facecolors='none', edgecolors=theme)"
   ]
  },
  {
   "cell_type": "code",
   "execution_count": 36,
   "metadata": {},
   "outputs": [
    {
     "name": "stderr",
     "output_type": "stream",
     "text": [
      "No handles with labels found to put in legend.\n"
     ]
    },
    {
     "data": {
      "image/png": "[encoded data removed]",
      "text/plain": [
       "<Figure size 432x288 with 1 Axes>"
      ]
     },
     "metadata": {
      "needs_background": "light"
     },
     "output_type": "display_data"
    }
   ],
   "source": [
    "path = r'/Users/wenxuanhuang/Documents/Repo/Active-Learning-Performance-Benchmarking/result_log/af_test_max_corr/**/'\n",
    "all_files = sorted(glob.glob(os.path.join(path, \"1.result.csv\")))\n",
    "\n",
    "# print(all_files[0])\n",
    "\n",
    "# min_abs = []\n",
    "# idx_min_abs = []\n",
    "# min_diff = []\n",
    "# idx_min_diff = []\n",
    "end_ur_fairness = []\n",
    "end_ur_accuracies = []\n",
    "end_rs_fairness = []\n",
    "end_rs_accuracies = []\n",
    "end_nonal_fairness = []\n",
    "end_nonal_accuracies = []\n",
    "\n",
    "for f in all_files:\n",
    "    df = pd.read_csv(f)\n",
    "    df = df.rename(columns={\"# x_axis\": \"axis\", \" ur_accuracies\": \"ur_accuracies\", \" ur_fairness\": \"ur_fairness\", \" rs_accuracies\": \"rs_accuracies\", \" rs_fairness\": \"rs_fairness\", \" nonal_accuracies\": \"nonal_accuracies\", \" nonal_fairness\": \"nonal_fairness\"})\n",
    "    # min_abs = np.append(min_abs, df['ur_fairness'].min())\n",
    "    # # print(min_abs)\n",
    "    # idx_min_abs = np.append(idx_min_abs, df['ur_fairness'].idxmin())\n",
    "    # # print(idx_min_abs)\n",
    "    # df_diff = df.diff()\n",
    "    # min_diff = np.append(min_diff, df_diff['ur_fairness'].min())\n",
    "    # # print(min_diff)\n",
    "    # idx_min_diff = np.append(idx_min_diff, df_diff['ur_fairness'].idxmin())\n",
    "    # # print(idx_min_diff)\n",
    "    end_df = df.iloc[[-1]]\n",
    "    end_ur_fairness = np.append(end_ur_fairness, end_df['ur_fairness'])\n",
    "    end_ur_accuracies = np.append(end_ur_accuracies, end_df['ur_accuracies'])\n",
    "    end_rs_fairness = np.append(end_rs_fairness, end_df['rs_fairness'])\n",
    "    end_rs_accuracies = np.append(end_rs_accuracies, end_df['rs_accuracies'])\n",
    "    end_nonal_fairness = np.append(end_nonal_fairness, end_df['nonal_fairness'])\n",
    "    end_nonal_accuracies = np.append(end_nonal_accuracies, end_df['nonal_accuracies'])\n",
    "\n",
    "# print(end_nonal_fairness)\n",
    "fig, ax = plt.subplots()\n",
    "boxplot(end_ur_fairness, end_ur_accuracies, ax, 'maroon', whis=1.5)\n",
    "boxplot(end_rs_fairness, end_rs_accuracies, ax, 'limegreen', whis=1.5)\n",
    "boxplot(end_nonal_fairness, end_nonal_accuracies, ax, 'navy', whis=1.5)\n",
    "plt.legend()\n",
    "plt.xlabel('Unfairness')\n",
    "plt.ylabel('Accuracy')\n",
    "plt.show()\n",
    "\n",
    "# df_overview = pd.DataFrame(np.hstack((min_abs[:,None], idx_min_abs[:,None], min_diff[:,None], idx_min_diff[:,None])))\n",
    "\n",
    "# print(df_overview)\n",
    "# candidate_size = int(round(len(df_overview)/2))\n",
    "# idx_diff = abs(df_overview[1]-df_overview[3])\n",
    "# idx_sort = idx_diff.argsort()  \n",
    "# idx_min_diff_top = df_overview.nsmallest(candidate_size, 2, keep='all').index  # index of 5 largest fairness reduction\n",
    "\n",
    "# print(idx_diff, idx_sort, idx_min_diff_top)\n",
    "\n",
    "# ideal_trade_off = []\n",
    "# ideal_budget = []\n",
    "\n",
    "# for idx in idx_sort[0:candidate_size]:  # top half with smallest drop index and min index difference\n",
    "#     if idx in idx_min_diff_top.unique():  # is it one of the largest impact on fairness reduction\n",
    "#         df_min = pd.read_csv(all_files[idx])\n",
    "#         df_min = df_min.rename(columns={\"# x_axis\": \"axis\", \" ur_accuracies\": \"ur_accuracies\", \" ur_fairness\": \"ur_fairness\", \" rs_accuracies\": \"rs_accuracies\", \" rs_fairness\": \"rs_fairness\", \" nonal_accuracies\": \"nonal_accuracies\", \" nonal_fairness\": \"nonal_fairness\"})\n",
    "#         # print(idx)\n",
    "#         if df_min['ur_fairness'].min()-df_min['rs_fairness'].min()<0:\n",
    "#             # print(df_min)\n",
    "#             e_trade_off = idx/10\n",
    "#             ideal_trade_off = np.append(ideal_trade_off, e_trade_off)\n",
    "#             ideal_budget = np.append(ideal_budget, df_min['axis'][df_min['ur_fairness'].idxmin()])\n",
    "\n",
    "# print(ideal_trade_off, ideal_budget)"
   ]
  }
 ],
 "metadata": {
  "interpreter": {
   "hash": "b6d1a97b03e52be1c553c50910cdb19760ee3e4d178c0a737039468e0b0f9e5f"
  },
  "kernelspec": {
   "display_name": "Python 3.8.9 64-bit ('thesis-project': venv)",
   "name": "python3"
  },
  "language_info": {
   "codemirror_mode": {
    "name": "ipython",
    "version": 3
   },
   "file_extension": ".py",
   "mimetype": "text/x-python",
   "name": "python",
   "nbconvert_exporter": "python",
   "pygments_lexer": "ipython3",
   "version": "3.8.9"
  },
  "orig_nbformat": 4
 },
 "nbformat": 4,
 "nbformat_minor": 2
}
