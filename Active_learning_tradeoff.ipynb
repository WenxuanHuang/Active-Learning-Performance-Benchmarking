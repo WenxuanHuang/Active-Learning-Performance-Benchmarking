{
 "cells": [
  {
   "cell_type": "code",
   "execution_count": 142,
   "source": [
    "print(__doc__)\n",
    "import pandas as pd\n",
    "import numpy as np\n",
    "import matplotlib.pyplot as plt\n",
    "import glob\n",
    "import os\n",
    "pd.options.display.float_format = \"{:.4f}\".format\n",
    "pd.set_option(\"display.max_rows\", None, \"display.max_columns\", None)"
   ],
   "outputs": [
    {
     "output_type": "stream",
     "name": "stdout",
     "text": [
      "Automatically created module for IPython interactive environment\n"
     ]
    }
   ],
   "metadata": {}
  },
  {
   "cell_type": "code",
   "execution_count": 143,
   "source": [
    "path = r'/Users/wenxuanhuang/Documents/Repo/ML-for-COVID-19-dataset/result_log/af_test/09081220_EQODS_NF(200,10)'\n",
    "all_files = sorted(glob.glob(os.path.join(path, \"*.csv\")))\n",
    "\n",
    "print(all_files[3])\n",
    "\n",
    "min_abs = []\n",
    "idx_min_abs = []\n",
    "min_diff = []\n",
    "idx_min_diff = []\n",
    "\n",
    "for f in all_files:\n",
    "    df = pd.read_csv(f)\n",
    "    df = df.rename(columns={\"# x_axis\": \"axis\", \" ur_accuracies\": \"ur_accuracies\", \" ur_fairness\": \"ur_fairness\", \" rs_accuracies\": \"rs_accuracies\", \" rs_fairness\": \"rs_fairness\", \" nonal_accuracies\": \"nonal_accuracies\", \" nonal_fairness\": \"nonal_fairness\"})\n",
    "    min_abs = np.append(min_abs, df['ur_fairness'].min())\n",
    "    # print(min_abs)\n",
    "    idx_min_abs = np.append(idx_min_abs, df['ur_fairness'].idxmin())\n",
    "    # print(idx_min_abs)\n",
    "    df_diff = df.diff()\n",
    "    min_diff = np.append(min_diff, df_diff['ur_fairness'].min())\n",
    "    # print(min_diff)\n",
    "    idx_min_diff = np.append(idx_min_diff, df_diff['ur_fairness'].idxmin())\n",
    "    # print(idx_min_diff)\n",
    "\n",
    "df_overview = pd.DataFrame(np.hstack((min_abs[:,None], idx_min_abs[:,None], min_diff[:,None], idx_min_diff[:,None])))\n",
    "\n",
    "print(df_overview)\n",
    "candidate_size = int(round(len(df_overview)/2))\n",
    "idx_diff = abs(df_overview[1]-df_overview[3])\n",
    "idx_sort = idx_diff.argsort()  \n",
    "idx_min_diff_top = df_overview.nsmallest(candidate_size, 2, keep='all').index  # index of 5 largest fairness reduction\n",
    "\n",
    "ideal_trade_off = []\n",
    "ideal_budget = []\n",
    "\n",
    "for idx in idx_sort[0:candidate_size]:  # top half with smallest drop index and min index difference\n",
    "    if idx in idx_min_diff_top.unique():  # is it one of the largest impact on fairness reduction\n",
    "        df_min = pd.read_csv(all_files[idx])\n",
    "        df_min = df_min.rename(columns={\"# x_axis\": \"axis\", \" ur_accuracies\": \"ur_accuracies\", \" ur_fairness\": \"ur_fairness\", \" rs_accuracies\": \"rs_accuracies\", \" rs_fairness\": \"rs_fairness\", \" nonal_accuracies\": \"nonal_accuracies\", \" nonal_fairness\": \"nonal_fairness\"})\n",
    "        \n",
    "        if df_min['ur_fairness'].min()-df_min['rs_fairness'].min()<0:\n",
    "            # print(df_min)\n",
    "            e_trade_off = idx/10\n",
    "            ideal_trade_off = np.append(ideal_trade_off, e_trade_off)\n",
    "            ideal_budget = np.append(ideal_budget, df_min['axis'][df_min['ur_fairness'].idxmin()])\n",
    "\n",
    "print(ideal_trade_off, ideal_budget)"
   ],
   "outputs": [
    {
     "output_type": "stream",
     "name": "stdout",
     "text": [
      "/Users/wenxuanhuang/Documents/Repo/ML-for-COVID-19-dataset/result_log/af_test/09081220_EQODS_NF(200,10)/3.Result.csv\n",
      "       0       1       2       3\n",
      "0 0.0135  2.0000 -0.0361 18.0000\n",
      "1 0.0147  0.0000 -0.0298  8.0000\n",
      "2 0.0584  5.0000 -0.0518  4.0000\n",
      "3 0.0780  2.0000 -0.0421  2.0000\n",
      "4 0.0060  3.0000 -0.0335 12.0000\n",
      "5 0.0147  2.0000 -0.1107  6.0000\n",
      "6 0.0135  0.0000 -0.0150  6.0000\n",
      "7 0.0885 11.0000 -0.0346  9.0000\n",
      "8 0.0216  1.0000 -0.0347  1.0000\n",
      "9 0.0406  2.0000 -0.0329  6.0000\n",
      "[0.8 0.5] [20. 30.]\n"
     ]
    }
   ],
   "metadata": {}
  }
 ],
 "metadata": {
  "orig_nbformat": 4,
  "language_info": {
   "name": "python",
   "version": "3.8.2",
   "mimetype": "text/x-python",
   "codemirror_mode": {
    "name": "ipython",
    "version": 3
   },
   "pygments_lexer": "ipython3",
   "nbconvert_exporter": "python",
   "file_extension": ".py"
  },
  "kernelspec": {
   "name": "python3",
   "display_name": "Python 3.8.2 64-bit ('ML-for-COVID-19-dataset': venv)"
  },
  "interpreter": {
   "hash": "a2ef89d34cbfddaf50816f8d91581a3ca0913b9280767ed31a38c2db7dcc022c"
  }
 },
 "nbformat": 4,
 "nbformat_minor": 2
}