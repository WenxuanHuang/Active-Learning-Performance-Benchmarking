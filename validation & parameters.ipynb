{
 "cells": [
  {
   "cell_type": "code",
   "execution_count": 47,
   "metadata": {},
   "outputs": [
    {
     "name": "stdout",
     "output_type": "stream",
     "text": [
      "Automatically created module for IPython interactive environment\n"
     ]
    }
   ],
   "source": [
    "print(__doc__)\n",
    "import pandas as pd\n",
    "import numpy as np\n",
    "import matplotlib.pyplot as plt\n",
    "from matplotlib.patches import Rectangle\n",
    "from matplotlib.lines import Line2D\n",
    "import glob\n",
    "import os\n",
    "from scipy import stats\n",
    "pd.options.display.float_format = \"{:.4f}\".format\n",
    "pd.set_option(\"display.max_rows\", None, \"display.max_columns\", None)"
   ]
  },
  {
   "cell_type": "code",
   "execution_count": 48,
   "metadata": {},
   "outputs": [
    {
     "data": {
      "text/plain": [
       "WilcoxonResult(statistic=4496.0, pvalue=2.61737032136047e-72)"
      ]
     },
     "execution_count": 48,
     "metadata": {},
     "output_type": "execute_result"
    }
   ],
   "source": [
    "path = r'/Users/wenxuanhuang/Documents/Repo/Active-Learning-Performance-Benchmarking/result_log/Uniterative_test_200/**/'\n",
    "all_files = sorted(glob.glob(os.path.join(path, \"*.csv\")))\n",
    "\n",
    "# print(all_files[0])\n",
    "\n",
    "# min_abs = []\n",
    "# idx_min_abs = []\n",
    "# min_diff = []\n",
    "# idx_min_diff = []\n",
    "end_ur_fairness = []\n",
    "end_ur_accuracies = []\n",
    "end_rs_fairness = []\n",
    "end_rs_accuracies = []\n",
    "end_nonal_fairness = []\n",
    "end_nonal_accuracies = []\n",
    "\n",
    "for f in all_files:\n",
    "    df = pd.read_csv(f)\n",
    "    df = df.rename(columns={\"# x_axis\": \"axis\", \" ur_accuracies\": \"ur_accuracies\", \" ur_fairness\": \"ur_fairness\", \" rs_accuracies\": \"rs_accuracies\", \" rs_fairness\": \"rs_fairness\", \" nonal_accuracies\": \"nonal_accuracies\", \" nonal_fairness\": \"nonal_fairness\"})\n",
    "    # min_abs = np.append(min_abs, df['ur_fairness'].min())\n",
    "    # # print(min_abs)\n",
    "    # idx_min_abs = np.append(idx_min_abs, df['ur_fairness'].idxmin())\n",
    "    # # print(idx_min_abs)\n",
    "    # df_diff = df.diff()\n",
    "    # min_diff = np.append(min_diff, df_diff['ur_fairness'].min())\n",
    "    # # print(min_diff)\n",
    "    # idx_min_diff = np.append(idx_min_diff, df_diff['ur_fairness'].idxmin())\n",
    "    # # print(idx_min_diff)\n",
    "    end_df = df.iloc[[-1]]\n",
    "    end_ur_fairness = np.append(end_ur_fairness, end_df['ur_fairness'])\n",
    "    end_ur_accuracies = np.append(end_ur_accuracies, end_df['ur_accuracies'])\n",
    "    end_rs_fairness = np.append(end_rs_fairness, end_df['rs_fairness'])\n",
    "    end_rs_accuracies = np.append(end_rs_accuracies, end_df['rs_accuracies'])\n",
    "    end_nonal_fairness = np.append(end_nonal_fairness, end_df['nonal_fairness'])\n",
    "    end_nonal_accuracies = np.append(end_nonal_accuracies, end_df['nonal_accuracies'])\n",
    "\n",
    "# plt.hist(end_ur_fairness, color = 'red', edgecolor = 'black', bins = 30)\n",
    "# plt.hist(end_rs_fairness, color = 'green', edgecolor = 'black', bins = 50)\n",
    "# plt.hist(end_nonal_fairness, color = 'blue', edgecolor = 'black', bins = 20)\n",
    "# plt.show()\n",
    "\n",
    "# print(\"The average nonal accuracy is\", end_nonal_accuracies.shape)\n",
    "# print(\"The average nonal accuracy is\", format(np.average(end_nonal_accuracies), \".3f\"))\n",
    "# print(\"The average rs accuracy is\", format(np.average(end_rs_accuracies), \".3f\"))\n",
    "# print(\"The average mc accuracy is\", format(np.average(end_ur_accuracies), \".3f\"))\n",
    "# print(\"The average nonal fairness is\", format(np.average(end_nonal_fairness), \".5f\"))\n",
    "# print(\"The average rs fairness is\", format(np.average(end_rs_fairness), \".5f\"))\n",
    "# print(\"The average mc fairness is\", format(np.average(end_ur_fairness), \".5f\"))\n",
    "\n",
    "# stats.ttest_rel(end_rs_fairness, end_ur_fairness)\n",
    "# stats.probplot(end_ur_fairness, dist=\"norm\", plot=plt) # test whether normally distributed\n",
    "# stats.wilcoxon(end_ur_fairness, end_rs_fairness)"
   ]
  },
  {
   "cell_type": "markdown",
   "metadata": {},
   "source": []
  }
 ],
 "metadata": {
  "interpreter": {
   "hash": "b6d1a97b03e52be1c553c50910cdb19760ee3e4d178c0a737039468e0b0f9e5f"
  },
  "kernelspec": {
   "display_name": "Python 3.8.9 64-bit ('thesis-project': venv)",
   "name": "python3"
  },
  "language_info": {
   "codemirror_mode": {
    "name": "ipython",
    "version": 3
   },
   "file_extension": ".py",
   "mimetype": "text/x-python",
   "name": "python",
   "nbconvert_exporter": "python",
   "pygments_lexer": "ipython3",
   "version": "3.8.9"
  },
  "orig_nbformat": 4
 },
 "nbformat": 4,
 "nbformat_minor": 2
}
