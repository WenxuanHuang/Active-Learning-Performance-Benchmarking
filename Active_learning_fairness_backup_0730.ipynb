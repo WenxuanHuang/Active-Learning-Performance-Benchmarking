{
  "cells": [
    {
      "cell_type": "code",
      "execution_count": 1,
      "source": [
        "print(__doc__)\n",
        "\n",
        "import time\n",
        "import numpy as np\n",
        "import pandas as pd\n",
        "import matplotlib.pyplot as plt\n",
        "\n",
        "from sklearn.datasets import load_iris\n",
        "from sklearn.datasets import load_digits\n",
        "\n",
        "from sklearn.utils import check_random_state\n",
        "from sklearn.model_selection import KFold\n",
        "\n",
        "from sklearn.linear_model import LogisticRegression\n",
        "from sklearn.utils import check_random_state\n",
        "from sklearn.metrics import accuracy_score\n",
        "\n",
        "pd.options.display.float_format = \"{:.1f}\".format"
      ],
      "outputs": [
        {
          "output_type": "stream",
          "name": "stdout",
          "text": [
            "Automatically created module for IPython interactive environment\n"
          ]
        }
      ],
      "metadata": {
        "colab": {
          "base_uri": "https://localhost:8080/"
        },
        "id": "ioi13nGDPDvQ",
        "outputId": "4763f7b3-6c5b-45cb-f411-fd7c6ea8b38f"
      }
    },
    {
      "cell_type": "code",
      "execution_count": 2,
      "source": [
        "def retrieve_data_recid():\n",
        "    attributes = ['MarriageStatus','age','juv_fel_count', 'juv_misd_count', 'juv_other_count','priors_count', 'days_b_screening_arrest','c_days_from_compas','c_charge_degree']\n",
        "    bias = 'race'\n",
        "    target = 'two_year_recid'\n",
        "\n",
        "    np.random.seed(42)\n",
        "\n",
        "    data = pd.read_csv(\"https://raw.githubusercontent.com/WenxuanHuang/Active-Learning-Performance-Benchmarking/main/RecidivismData_Normalized.csv\", sep=',')\n",
        "    data_col = data.columns\n",
        "    df = data[(data[bias]==2)|(data[bias]==3)].copy().values\n",
        "\n",
        "    kf = KFold(n_splits=4) #differ from original method\n",
        "    for train_index, test_index in kf.split(df):\n",
        "        train, test = df[train_index], df[test_index]\n",
        "        # print(\"Size of X_train_full, X_test:\", train.shape, test.shape)\n",
        "\n",
        "    df_train = pd.DataFrame(data=train, columns=data_col)\n",
        "    df_test = pd.DataFrame(data=test, columns=data_col)\n",
        "\n",
        "    labeled = df_train.groupby(target, group_keys=False).apply(lambda x: x.sample(n=5, random_state = 42)) # ten sample in total labeled initially\n",
        "    df_X_labeled = labeled[attributes]\n",
        "    df_y_labeled = labeled[target]\n",
        "    X_labeled = df_X_labeled.values\n",
        "    y_labeled = df_y_labeled.values.astype('int64')\n",
        "    b_labeled = labeled[bias].values-2\n",
        "    (row_size, col_size) = X_labeled.shape\n",
        "\n",
        "    unlabeled = df_train.drop(df_X_labeled.index)\n",
        "    df_X_unlabeled = unlabeled[attributes]\n",
        "    df_y_unlabeled = unlabeled[target]\n",
        "    X_unlabeled = df_X_unlabeled.values\n",
        "    y_unlabeled = df_y_unlabeled.values.astype('int64')\n",
        "    b_unlabeled = unlabeled[bias].values-2\n",
        "\n",
        "    X_test = df_test[attributes].values\n",
        "    y_test = df_test[target].values\n",
        "    y_test=y_test.astype('int')\n",
        "    b_test = df_test[bias].values-2\n",
        "\n",
        "    X_fair_est = X_unlabeled\n",
        "    y_fair_est = y_unlabeled\n",
        "    b_fair_est = b_unlabeled\n",
        "    \n",
        "    return (X_labeled, y_labeled, b_labeled, row_size, col_size, X_unlabeled, y_unlabeled, b_unlabeled, X_test, y_test, b_test, X_fair_est, y_fair_est, b_fair_est)"
      ],
      "outputs": [],
      "metadata": {}
    },
    {
      "cell_type": "code",
      "execution_count": 3,
      "source": [
        "class BaseModel(object):\n",
        "\n",
        "    def __init__(self):\n",
        "        pass\n",
        "\n",
        "    def fit_predict(self):\n",
        "        pass\n",
        "\n",
        "class LogModel(BaseModel):\n",
        "\n",
        "    def fit_predict(self, X_labeled, y_labeled, X_test, y_test):\n",
        "        self.classifier = LogisticRegression(\n",
        "            solver='liblinear'\n",
        "            )\n",
        "        self.classifier.fit(X_labeled, y_labeled)\n",
        "        # self.y_test_predicted = self.classifier.predict(X_test)\n",
        "        # self.y_unlabeled_predicted = self.classifier.predict(X_unlabeled)\n",
        "        self.y_test_score = self.classifier.score(X_test, y_test)\n",
        "        return (X_labeled, X_test, self.y_test_score)"
      ],
      "outputs": [],
      "metadata": {}
    },
    {
      "cell_type": "code",
      "execution_count": 4,
      "source": [
        "class TrainModel:\n",
        "\n",
        "    def __init__(self, model_object):        \n",
        "        self.accuracies = []\n",
        "        self.model_object = model_object()        \n",
        "\n",
        "    def print_model_type(self):\n",
        "        print (self.model_object.model_type)\n",
        "\n",
        "    def train(self, X_labeled, y_labeled, X_test, y_test):\n",
        "        t0 = time.time()\n",
        "        (X_labeled, X_test, self.y_test_score) = \\\n",
        "            self.model_object.fit_predict(X_labeled, y_labeled, X_test, y_test)\n",
        "        self.run_time = time.time() - t0\n",
        "        return (X_labeled, X_test)\n",
        "\n",
        "    def get_test_accuracy(self, i):\n",
        "        classif_rate = self.y_test_score * 100\n",
        "        self.accuracies.append(classif_rate)               \n",
        "        # print('--------------------------------')\n",
        "        # print('Iteration:',i)\n",
        "        # print(\"Accuracy rate is %f \" % (classif_rate))    \n",
        "        # print('--------------------------------')"
      ],
      "outputs": [],
      "metadata": {}
    },
    {
      "cell_type": "code",
      "execution_count": 5,
      "source": [
        "class QueryFunction(object):\n",
        "\n",
        "    def __init__(self):\n",
        "        pass\n",
        "\n",
        "    def pool_select(self):\n",
        "        pass\n",
        "\n",
        "\n",
        "# class RandomSelection(QueryFunction):\n",
        "\n",
        "#     @staticmethod\n",
        "#     def pool_select(probas_val, batch_size):\n",
        "#         random_state = check_random_state(0)\n",
        "#         # probas_val.shape[0] is the size of validation set\n",
        "#         selection = np.random.choice(probas_val.shape[0], batch_size, replace=False)\n",
        "#         # print('uniques chosen:',np.unique(selection).shape[0],'<= should be equal to:',batch_size)\n",
        "#         return selection\n",
        "\n",
        "\n",
        "# class EntropySelection(QueryFunction):\n",
        "\n",
        "#     @staticmethod\n",
        "#     def pool_select(probas_val, batch_size):\n",
        "#         e = (-probas_val * np.log2(probas_val)).sum(axis=1)\n",
        "#         selection = (np.argsort(e)[::-1])[:batch_size]\n",
        "#         return selection\n",
        "\n",
        "# class MinStdSelection(QueryFunction):\n",
        "\n",
        "#     # select the samples where the std is smallest. There is uncertainty regarding the relevant class\n",
        "#     # and then train on these \"hard\" to classify samples.\n",
        "#     @staticmethod\n",
        "#     def pool_select(probas_val, batch_size):\n",
        "#         std = np.std(probas_val * 100, axis=1) \n",
        "#         selection = std.argsort()[:batch_size]\n",
        "#         selection = selection.astype('int64')\n",
        "#         print('std',std.shape,std)\n",
        "#         print('selection',selection, selection.shape, std[selection])\n",
        "#         return selection\n",
        "\n",
        "# class LeastConfidenceSelection(QueryFunction):\n",
        "\n",
        "#     @staticmethod\n",
        "#     def pool_select(probas_val, batch_size):\n",
        "#         sort_prob = -np.sort(-probas_val, axis=1)\n",
        "#         values = sort_prob[:, 0]\n",
        "#         selection = np.argsort(values)[:batch_size]\n",
        "#         return selection\n",
        "      \n",
        "      \n",
        "class MarginSelection(QueryFunction):\n",
        "\n",
        "    @staticmethod\n",
        "    def pool_select(probas_val, batch_size):\n",
        "        sort_prob = -np.sort(-probas_val, axis=1)\n",
        "        values = sort_prob[:, 0] - sort_prob[:, 1]\n",
        "        selection = np.argsort(values)[:batch_size]\n",
        "        return selection\n"
      ],
      "outputs": [],
      "metadata": {}
    },
    {
      "cell_type": "code",
      "execution_count": 6,
      "source": [
        "def get_random_samples(initial_samples, X_train_full,\n",
        "                         y_train_full):\n",
        "\n",
        "    random_state = check_random_state(0)\n",
        "    permutation = np.random.choice(len(X_train_full),initial_samples,replace=False)\n",
        "    X_train = X_train_full[permutation]\n",
        "    y_train = y_train_full[permutation]\n",
        "    X_train = X_train.reshape((X_train.shape[0], -1))\n",
        "    return (permutation, X_train, y_train)"
      ],
      "outputs": [],
      "metadata": {}
    },
    {
      "cell_type": "code",
      "execution_count": null,
      "source": [
        "def log_loss(labels, probs):\n",
        "    \n",
        "    eps = np.finfo(probs.dtype).eps\n",
        "    probs = np.clip(probs, eps, 1 - eps)\n",
        "    loss = 0\n",
        "\n",
        "    for i in range(len(probs)):\n",
        "        for prob in probs[i]:\n",
        "            loss -= (labels[i]*np.log(prob))\n",
        " \n",
        "    ll = loss/(len(probs)*1.)\n",
        "\n",
        "    return ll"
      ],
      "outputs": [],
      "metadata": {}
    },
    {
      "cell_type": "code",
      "execution_count": 7,
      "source": [
        "class active_learning(object):\n",
        "\n",
        "    def __init__(self, step, model_object, selection_function):\n",
        "        self.step = step\n",
        "        self.model_object = model_object\n",
        "        self.sample_selection_function = selection_function\n",
        "        \n",
        "    def run(self, X_labeled, y_labeled, b_labeled, row_size, col_size, X_unlabeled, y_unlabeled, b_unlabeled, X_test, y_test, b_test, X_fair_est, y_fair_est, b_fair_est, budget):\n",
        "  \n",
        "        self.clf_model = TrainModel(self.model_object)\n",
        "        (X_labeled, X_test) = self.clf_model.train(X_labeled, y_labeled, X_test, y_test)\n",
        "        active_iteration = 1\n",
        "        self.clf_model.get_test_accuracy(active_iteration)\n",
        "\n",
        "        self.query_size = len(X_labeled)\n",
        "\n",
        "        while self.query_size <= budget-self.step:\n",
        "\n",
        "            active_iteration += 1\n",
        "            self.query_size += self.step\n",
        "\n",
        "            probas_val = \\\n",
        "                self.clf_model.model_object.classifier.predict_proba(X_unlabeled)\n",
        "            uncertain_samples = self.sample_selection_function.pool_select(probas_val, self.step)\n",
        "\n",
        "            X_labeled = np.concatenate((X_labeled, X_unlabeled[uncertain_samples]))\n",
        "            y_labeled = np.concatenate((y_labeled, y_unlabeled[uncertain_samples]))\n",
        "            X_unlabeled = np.delete(X_unlabeled, uncertain_samples, axis=0)\n",
        "            y_unlabeled = np.delete(y_unlabeled, uncertain_samples, axis=0)\n",
        "\n",
        "            (X_labeled, X_test) = self.clf_model.train(X_labeled, y_labeled, X_test, y_test)\n",
        "            self.clf_model.get_test_accuracy(active_iteration)\n",
        "\n",
        "        return self.clf_model.accuracies"
      ],
      "outputs": [],
      "metadata": {}
    },
    {
      "cell_type": "code",
      "execution_count": 8,
      "source": [
        "def experiment(model,sampling_method,budget,step):\n",
        "    \n",
        "    (X_labeled, y_labeled, b_labeled, row_size, col_size, X_unlabeled, y_unlabeled, b_unlabeled, X_test, y_test, b_test, X_fair_est, y_fair_est, b_fair_est) = retrieve_data_recid()\n",
        "        \n",
        "    act_alg = active_learning(step, model , sampling_method)\n",
        "\n",
        "    accuracies = act_alg.run(X_labeled, y_labeled, b_labeled, row_size, col_size, X_unlabeled, y_unlabeled, b_unlabeled, X_test, y_test, b_test, X_fair_est, y_fair_est, b_fair_est, budget)\n",
        "\n",
        "    nonal_X_train = np.concatenate((X_unlabeled, X_labeled))\n",
        "    nonal_y_train = np.concatenate((y_unlabeled, y_labeled))\n",
        "    nonal_X_test = X_test\n",
        "    nonal_y_test = y_test\n",
        "\n",
        "    nonal_initial_query = 10 # temporary implementation\n",
        "\n",
        "    nonal_accuracies=[]\n",
        "\n",
        "    classifier_nonal = LogisticRegression(\n",
        "            solver='liblinear'\n",
        "            )\n",
        "\n",
        "    x_axis = []\n",
        "    \n",
        "    for i in range(nonal_initial_query-1,budget,step): \n",
        "        classifier_nonal.fit(nonal_X_train[:i+1], nonal_y_train[:i+1])\n",
        "        nonal_y_pred = classifier_nonal.predict(nonal_X_test)\n",
        "        nonal_accuracies.append(accuracy_score(nonal_y_test, nonal_y_pred)*100)\n",
        "        x_axis.append(i+1)\n",
        "\n",
        "    print(\"active_accuracies\",accuracies)\n",
        "    print(\"nonactive_accuracies\",nonal_accuracies)\n",
        "\n",
        "    plt.plot(x_axis, accuracies, 'r',label='active')\n",
        "    plt.plot(x_axis, nonal_accuracies, 'b',label='non-active')\n",
        "    plt.legend()\n",
        "    plt.xlabel('Sample Size')\n",
        "    plt.ylabel('Accuracy')\n",
        "    plt.show()"
      ],
      "outputs": [],
      "metadata": {}
    },
    {
      "cell_type": "code",
      "execution_count": 9,
      "source": [
        "experiment(LogModel,MarginSelection,1000,10)"
      ],
      "outputs": [
        {
          "output_type": "stream",
          "name": "stdout",
          "text": [
            "active_accuracies [57.629427792915536, 55.177111716621255, 52.043596730245234, 54.223433242506815, 54.223433242506815, 54.76839237057221, 55.99455040871935, 56.06267029972752, 57.28882833787466, 57.08446866485014, 57.833787465940055, 58.17438692098092, 58.17438692098092, 58.37874659400545, 59.12806539509536, 59.12806539509536, 58.65122615803815, 59.87738419618529, 60.217983651226156, 59.40054495912806, 59.741144414168936, 61.03542234332425, 61.30790190735694, 62.19346049046322, 62.94277929155313, 63.28337874659401, 62.73841961852861, 63.48773841961853, 62.60217983651226, 63.21525885558583, 62.60217983651226, 63.14713896457766, 62.73841961852861, 63.89645776566758, 64.91825613079018, 65.80381471389646, 64.50953678474114, 64.91825613079018, 65.87193460490464, 65.66757493188011, 66.00817438692098, 66.28065395095368, 65.25885558583107, 65.59945504087193, 65.87193460490464, 66.96185286103542, 66.96185286103542, 66.00817438692098, 67.98365122615803, 67.77929155313352, 67.8474114441417, 67.71117166212534, 68.73297002724796, 68.18801089918256, 68.39237057220708, 68.73297002724796, 67.91553133514986, 67.50681198910081, 67.64305177111717, 68.52861035422343, 67.8474114441417, 68.05177111716621, 68.39237057220708, 68.8692098092643, 67.77929155313352, 68.05177111716621, 67.8474114441417, 68.25613079019074, 68.25613079019074, 68.05177111716621, 67.64305177111717, 67.37057220708446, 67.37057220708446, 67.30245231607628, 67.98365122615803, 67.8474114441417, 67.64305177111717, 67.71117166212534, 67.57493188010899, 67.91553133514986, 67.91553133514986, 67.30245231607628, 67.50681198910081, 67.8474114441417, 67.77929155313352, 68.11989100817438, 67.8474114441417, 68.11989100817438, 67.98365122615803, 67.98365122615803, 68.3242506811989, 68.25613079019074, 68.11989100817438, 68.3242506811989, 68.25613079019074, 68.46049046321527, 68.52861035422343, 68.3242506811989, 68.52861035422343, 68.66485013623979]\n",
            "nonactive_accuracies [52.724795640326974, 52.724795640326974, 58.37874659400545, 58.719346049046315, 57.90190735694822, 56.47138964577657, 56.26702997275205, 57.15258855585831, 59.80926430517711, 60.76294277929155, 60.42234332425068, 58.991825613079016, 58.787465940054496, 58.44686648501363, 60.49046321525886, 61.71662125340599, 63.41961852861036, 64.78201634877384, 65.80381471389646, 64.71389645776566, 63.555858310626704, 63.76021798365122, 63.96457765667575, 64.3732970027248, 63.828337874659404, 64.50953678474114, 64.30517711171662, 64.10081743869209, 63.48773841961853, 64.57765667574932, 64.85013623978202, 64.10081743869209, 64.23705722070845, 64.30517711171662, 64.64577656675749, 64.50953678474114, 65.39509536784742, 65.25885558583107, 65.32697547683924, 65.39509536784742, 65.53133514986375, 65.66757493188011, 64.98637602179836, 65.46321525885558, 65.73569482288828, 65.39509536784742, 65.46321525885558, 65.66757493188011, 65.53133514986375, 65.59945504087193, 66.07629427792916, 64.91825613079018, 64.91825613079018, 65.12261580381471, 65.25885558583107, 66.00817438692098, 65.80381471389646, 65.87193460490464, 65.59945504087193, 65.32697547683924, 65.39509536784742, 65.39509536784742, 65.66757493188011, 65.53133514986375, 65.59945504087193, 67.0299727520436, 66.89373297002726, 66.89373297002726, 66.96185286103542, 67.09809264305177, 67.16621253405994, 67.30245231607628, 67.30245231607628, 67.57493188010899, 66.7574931880109, 67.37057220708446, 67.71117166212534, 67.71117166212534, 67.50681198910081, 67.43869209809264, 67.50681198910081, 67.50681198910081, 68.05177111716621, 67.71117166212534, 68.3242506811989, 68.52861035422343, 68.25613079019074, 67.98365122615803, 68.11989100817438, 67.8474114441417, 68.11989100817438, 68.25613079019074, 68.11989100817438, 67.77929155313352, 67.57493188010899, 68.05177111716621, 67.64305177111717, 67.57493188010899, 67.57493188010899, 67.43869209809264]\n"
          ]
        },
        {
          "output_type": "display_data",
          "data": {
            "text/plain": [
              "<Figure size 432x288 with 1 Axes>"
            ],
            "image/png": "[encoded data removed]"
          },
          "metadata": {
            "needs_background": "light"
          }
        }
      ],
      "metadata": {}
    }
  ],
  "metadata": {
    "colab": {
      "authorship_tag": "ABX9TyMfqalTRwiWuiIELJDbCQ7d",
      "mount_file_id": "1SZapm_bYNJDCJi8ECwmjrzaN8-1ruRgA",
      "name": "Logistic.ipynb",
      "provenance": []
    },
    "interpreter": {
      "hash": "a2ef89d34cbfddaf50816f8d91581a3ca0913b9280767ed31a38c2db7dcc022c"
    },
    "kernelspec": {
      "name": "python3",
      "display_name": "Python 3.8.2 64-bit ('ML-for-COVID-19-dataset': venv)"
    },
    "language_info": {
      "codemirror_mode": {
        "name": "ipython",
        "version": 3
      },
      "file_extension": ".py",
      "mimetype": "text/x-python",
      "name": "python",
      "nbconvert_exporter": "python",
      "pygments_lexer": "ipython3",
      "version": "3.8.2"
    },
    "metadata": {
      "interpreter": {
        "hash": "5edc29c2ed010d6458d71a83433b383a96a8cbd3efe8531bc90c4b8a5b8bcec9"
      }
    }
  },
  "nbformat": 4,
  "nbformat_minor": 2
}