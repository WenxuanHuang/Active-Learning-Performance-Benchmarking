{
 "cells": [
  {
   "cell_type": "code",
   "execution_count": 9,
   "source": [
    "print(__doc__)\n",
    "from collections import Counter\n",
    "import pandas as pd\n",
    "import numpy as np\n",
    "import matplotlib.pyplot as plt\n",
    "import glob\n",
    "import os\n",
    "pd.options.display.float_format = \"{:.4f}\".format\n",
    "pd.set_option(\"display.max_rows\", None, \"display.max_columns\", None)"
   ],
   "outputs": [
    {
     "output_type": "stream",
     "name": "stdout",
     "text": [
      "Automatically created module for IPython interactive environment\n"
     ]
    }
   ],
   "metadata": {}
  },
  {
   "cell_type": "code",
   "execution_count": 10,
   "source": [
    "def flatten(list):\n",
    "    return [item for sublist in list for item in sublist]\n",
    "\n",
    "def getSumOdds(list):\n",
    "    return sum(list[1::2])\n",
    "\n",
    "def getSumEvens(list):\n",
    "    return sum(list[0::1])"
   ],
   "outputs": [],
   "metadata": {}
  },
  {
   "cell_type": "code",
   "execution_count": 11,
   "source": [
    "path = r'/Users/wenxuanhuang/Documents/Repo/ML-for-COVID-19-dataset/result_log/af_test/EQODS_NF(200,10)'\n",
    "all_files = sorted(glob.glob(os.path.join(path, \"**/9.Result.csv\")))\n",
    "\n",
    "candidate_axis = []\n",
    "\n",
    "for f in all_files:\n",
    "    df = pd.read_csv(f)\n",
    "    df = df.rename(columns={\"# x_axis\": \"axis\", \" ur_accuracies\": \"ur_accuracies\", \" ur_fairness\": \"ur_fairness\", \" rs_accuracies\": \"rs_accuracies\", \" rs_fairness\": \"rs_fairness\", \" nonal_accuracies\": \"nonal_accuracies\", \" nonal_fairness\": \"nonal_fairness\"})\n",
    "\n",
    "    ur_a_min = df['ur_accuracies'].min()\n",
    "    ur_a_max = df['ur_accuracies'].max()\n",
    "    \n",
    "    for idx in df.index:\n",
    "\n",
    "        if df.iloc[idx]['ur_accuracies'] >= df.iloc[idx]['rs_accuracies'] or df.iloc[idx]['rs_accuracies'] - df.iloc[idx]['ur_accuracies'] <= (ur_a_max - ur_a_min)/3:\n",
    "            if df.iloc[idx]['ur_fairness'] < df.iloc[idx]['rs_fairness']:\n",
    "                candidate_axis = np.append(candidate_axis, df.iloc[idx]['axis'])\n",
    "\n",
    "\n",
    "candidate_points = Counter(candidate_axis).most_common()\n",
    "\n",
    "print(candidate_points)"
   ],
   "outputs": [
    {
     "output_type": "stream",
     "name": "stdout",
     "text": [
      "[(20.0, 13), (120.0, 11), (170.0, 9), (50.0, 8), (100.0, 7), (40.0, 7), (180.0, 7), (110.0, 7), (140.0, 7), (90.0, 6), (30.0, 6), (190.0, 6), (200.0, 6), (130.0, 6), (150.0, 6), (60.0, 6), (70.0, 6), (160.0, 6), (80.0, 5)]\n"
     ]
    }
   ],
   "metadata": {}
  },
  {
   "cell_type": "code",
   "execution_count": 12,
   "source": [
    "sorted_frequency_arr = np.array(sorted(candidate_points, key=lambda x: x[0], reverse=False)).T[1]\n",
    "\n",
    "sorted_frequency = sorted_frequency_arr.tolist()\n",
    "\n",
    "print(sorted_frequency)\n"
   ],
   "outputs": [
    {
     "output_type": "stream",
     "name": "stdout",
     "text": [
      "[13.0, 6.0, 7.0, 8.0, 6.0, 6.0, 5.0, 6.0, 7.0, 7.0, 11.0, 6.0, 7.0, 6.0, 6.0, 9.0, 7.0, 6.0, 6.0]\n"
     ]
    }
   ],
   "metadata": {}
  },
  {
   "cell_type": "code",
   "execution_count": null,
   "source": [
    " \n"
   ],
   "outputs": [],
   "metadata": {}
  }
 ],
 "metadata": {
  "orig_nbformat": 4,
  "language_info": {
   "name": "python",
   "version": "3.8.9",
   "mimetype": "text/x-python",
   "codemirror_mode": {
    "name": "ipython",
    "version": 3
   },
   "pygments_lexer": "ipython3",
   "nbconvert_exporter": "python",
   "file_extension": ".py"
  },
  "kernelspec": {
   "name": "python3",
   "display_name": "Python 3.8.9 64-bit ('ML-for-COVID-19-dataset': venv)"
  },
  "interpreter": {
   "hash": "a2ef89d34cbfddaf50816f8d91581a3ca0913b9280767ed31a38c2db7dcc022c"
  }
 },
 "nbformat": 4,
 "nbformat_minor": 2
}