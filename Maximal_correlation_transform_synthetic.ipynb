{
 "cells": [
  {
   "cell_type": "code",
   "execution_count": 1,
   "metadata": {},
   "outputs": [
    {
     "name": "stdout",
     "output_type": "stream",
     "text": [
      "Automatically created module for IPython interactive environment\n"
     ]
    }
   ],
   "source": [
    "print(__doc__)\n",
    "import math\n",
    "\n",
    "import numpy as np\n",
    "import pandas as pd\n",
    "import matplotlib.pyplot as plt\n",
    "\n",
    "from sklearn.utils import check_random_state\n",
    "from sklearn.model_selection import KFold\n",
    "from sklearn import preprocessing\n",
    "from sklearn.metrics import classification_report\n",
    "from sklearn.metrics import accuracy_score\n",
    "from sklearn.metrics import confusion_matrix\n",
    "from sklearn.metrics import plot_roc_curve\n",
    "from sklearn.metrics import mutual_info_score\n",
    "\n",
    "from sklearn.linear_model import LogisticRegression\n",
    "import statsmodels.api as sm\n",
    "\n",
    "# from ace import model\n",
    "# from ace import ace\n",
    "import ace.model\n",
    "import ace.ace\n",
    "\n",
    "pd.options.display.float_format = \"{:.1f}\".format"
   ]
  },
  {
   "cell_type": "code",
   "execution_count": 2,
   "metadata": {},
   "outputs": [],
   "source": [
    "def retrieve_data_recid():\n",
    "    \n",
    "    attributes = ['Number_of_Priors','score_factor','Age_Above_FourtyFive', 'Age_Below_TwentyFive', 'Female','Misdemeanor', 'Comfounding_Variable_1']\n",
    "    bias = 'African_American'\n",
    "    target = 'Two_yr_Recidivism'\n",
    "\n",
    "    # np.random.seed(42)\n",
    "    df = pd.read_csv(\"https://raw.githubusercontent.com/WenxuanHuang/Maximal-Correlation-Unfairness-Reduction/main/propublica_data_synthesized.csv\", sep=',')\n",
    "    # print(df.shape)\n",
    "\n",
    "\n",
    "    df_X = df[attributes]\n",
    "    df_y = df[target]\n",
    "    df_X = df_X.values\n",
    "    df_y = df_y.values.astype('int64')\n",
    "    df_b = df[bias].values\n",
    "    \n",
    "    return (df_X, df_y, df_b)"
   ]
  },
  {
   "cell_type": "code",
   "execution_count": 3,
   "metadata": {},
   "outputs": [],
   "source": [
    "def maximal_correlation_transform(ace_model, x, y):\n",
    "    \n",
    "    ace_model.build_model_from_xy(x, y)\n",
    "    X_transformed = ace_model.ace.x_transforms\n",
    "    y_transformed = ace_model.ace.y_transform\n",
    "    \n",
    "    return X_transformed, y_transformed"
   ]
  },
  {
   "cell_type": "code",
   "execution_count": 4,
   "metadata": {},
   "outputs": [],
   "source": [
    "\n",
    "\n",
    "(X,y,b) = retrieve_data_recid()\n",
    "\n"
   ]
  },
  {
   "cell_type": "code",
   "execution_count": 5,
   "metadata": {},
   "outputs": [
    {
     "name": "stdout",
     "output_type": "stream",
     "text": [
      "* Starting outer iteration 000. Current err =  1.00000E+00\n",
      "  Starting inner iteration 000. Current err =  1.00000E+00\n"
     ]
    },
    {
     "name": "stderr",
     "output_type": "stream",
     "text": [
      "/Users/wenxuanhuang/Documents/Repo/Active-Learning-Performance-Benchmarking/thesis-project/lib/python3.8/site-packages/ace/smoother.py:309: RuntimeWarning: invalid value encountered in double_scalars\n",
      "  (xi - self._mean_x_in_window) ** 2 /\n"
     ]
    },
    {
     "name": "stdout",
     "output_type": "stream",
     "text": [
      "  Starting inner iteration 001. Current err =  5.59739E-01\n",
      "  Starting inner iteration 002. Current err =  5.48946E-01\n",
      "  Starting inner iteration 003. Current err =  5.46335E-01\n",
      "  Starting inner iteration 004. Current err =  5.45377E-01\n",
      "  Starting inner iteration 005. Current err =  5.45007E-01\n",
      "  Starting inner iteration 006. Current err =  5.44879E-01\n",
      "  Starting inner iteration 007. Current err =  5.44846E-01\n",
      "  Starting inner iteration 008. Current err =  5.44846E-01\n",
      "* Starting outer iteration 001. Current err =  5.64667E-01\n",
      "  Starting inner iteration 000. Current err =  5.64667E-01\n",
      "  Starting inner iteration 001. Current err =  4.88101E-01\n",
      "* Starting outer iteration 002. Current err =  4.68212E-01\n",
      "  Starting inner iteration 000. Current err =  4.68212E-01\n",
      "  Starting inner iteration 001. Current err =  3.91022E-01\n",
      "  Starting inner iteration 002. Current err =  3.89598E-01\n",
      "  Starting inner iteration 003. Current err =  3.89184E-01\n",
      "  Starting inner iteration 004. Current err =  3.88605E-01\n",
      "  Starting inner iteration 005. Current err =  3.88131E-01\n",
      "  Starting inner iteration 006. Current err =  3.87830E-01\n",
      "  Starting inner iteration 007. Current err =  3.87666E-01\n",
      "  Starting inner iteration 008. Current err =  3.87586E-01\n",
      "  Starting inner iteration 009. Current err =  3.87551E-01\n",
      "  Starting inner iteration 010. Current err =  3.87538E-01\n",
      "  Starting inner iteration 011. Current err =  3.87535E-01\n",
      "* Starting outer iteration 003. Current err =  3.34488E-01\n",
      "  Starting inner iteration 000. Current err =  3.34488E-01\n",
      "  Starting inner iteration 001. Current err =  2.16225E-01\n",
      "  Starting inner iteration 002. Current err =  2.01285E-01\n",
      "  Starting inner iteration 003. Current err =  1.97311E-01\n",
      "  Starting inner iteration 004. Current err =  1.95266E-01\n",
      "  Starting inner iteration 005. Current err =  1.94175E-01\n",
      "  Starting inner iteration 006. Current err =  1.93624E-01\n",
      "  Starting inner iteration 007. Current err =  1.93365E-01\n",
      "  Starting inner iteration 008. Current err =  1.93254E-01\n",
      "  Starting inner iteration 009. Current err =  1.93213E-01\n",
      "  Starting inner iteration 010. Current err =  1.93202E-01\n",
      "* Starting outer iteration 004. Current err =  1.67606E-01\n",
      "  Starting inner iteration 000. Current err =  1.67606E-01\n",
      "  Starting inner iteration 001. Current err =  1.17748E-01\n",
      "  Starting inner iteration 002. Current err =  1.06252E-01\n",
      "  Starting inner iteration 003. Current err =  1.03888E-01\n",
      "  Starting inner iteration 004. Current err =  1.02891E-01\n",
      "  Starting inner iteration 005. Current err =  1.02400E-01\n",
      "  Starting inner iteration 006. Current err =  1.02162E-01\n",
      "  Starting inner iteration 007. Current err =  1.02052E-01\n",
      "  Starting inner iteration 008. Current err =  1.02006E-01\n",
      "  Starting inner iteration 009. Current err =  1.01990E-01\n",
      "  Starting inner iteration 010. Current err =  1.01987E-01\n",
      "* Starting outer iteration 005. Current err =  1.11611E-01\n",
      "  Starting inner iteration 000. Current err =  1.11611E-01\n",
      "  Starting inner iteration 001. Current err =  1.04475E-01\n",
      "  Starting inner iteration 002. Current err =  1.01233E-01\n",
      "  Starting inner iteration 003. Current err =  1.00772E-01\n",
      "  Starting inner iteration 004. Current err =  1.00612E-01\n",
      "  Starting inner iteration 005. Current err =  1.00523E-01\n",
      "  Starting inner iteration 006. Current err =  1.00472E-01\n",
      "  Starting inner iteration 007. Current err =  1.00446E-01\n",
      "  Starting inner iteration 008. Current err =  1.00434E-01\n",
      "  Starting inner iteration 009. Current err =  1.00430E-01\n",
      "  Starting inner iteration 010. Current err =  1.00429E-01\n",
      "* Starting outer iteration 006. Current err =  1.06522E-01\n",
      "  Starting inner iteration 000. Current err =  1.06522E-01\n",
      "  Starting inner iteration 001. Current err =  1.05578E-01\n",
      "  Starting inner iteration 002. Current err =  1.04490E-01\n",
      "  Starting inner iteration 003. Current err =  1.04371E-01\n",
      "  Starting inner iteration 004. Current err =  1.04335E-01\n",
      "  Starting inner iteration 005. Current err =  1.04309E-01\n",
      "  Starting inner iteration 006. Current err =  1.04291E-01\n",
      "  Starting inner iteration 007. Current err =  1.04281E-01\n",
      "  Starting inner iteration 008. Current err =  1.04276E-01\n",
      "  Starting inner iteration 009. Current err =  1.04275E-01\n",
      "  Starting inner iteration 010. Current err =  1.04274E-01\n",
      "* Starting outer iteration 007. Current err =  1.06453E-01\n",
      "  Starting inner iteration 000. Current err =  1.06453E-01\n",
      "  Starting inner iteration 001. Current err =  1.06184E-01\n",
      "  Starting inner iteration 002. Current err =  1.05722E-01\n",
      "  Starting inner iteration 003. Current err =  1.05690E-01\n",
      "  Starting inner iteration 004. Current err =  1.05681E-01\n",
      "  Starting inner iteration 005. Current err =  1.05670E-01\n",
      "  Starting inner iteration 006. Current err =  1.05660E-01\n",
      "  Starting inner iteration 007. Current err =  1.05655E-01\n",
      "  Starting inner iteration 008. Current err =  1.05652E-01\n",
      "  Starting inner iteration 009. Current err =  1.05651E-01\n",
      "  Starting inner iteration 010. Current err =  1.05651E-01\n",
      "* Starting outer iteration 008. Current err =  1.06270E-01\n",
      "  Starting inner iteration 000. Current err =  1.06270E-01\n",
      "  Starting inner iteration 001. Current err =  1.06063E-01\n",
      "  Starting inner iteration 002. Current err =  1.05833E-01\n",
      "  Starting inner iteration 003. Current err =  1.05831E-01\n",
      "* Starting outer iteration 009. Current err =  1.05815E-01\n",
      "  Starting inner iteration 000. Current err =  1.05815E-01\n",
      "  Starting inner iteration 001. Current err =  1.05627E-01\n",
      "  Starting inner iteration 002. Current err =  1.05489E-01\n",
      "* Starting outer iteration 010. Current err =  1.05301E-01\n",
      "  Starting inner iteration 000. Current err =  1.05301E-01\n",
      "  Starting inner iteration 001. Current err =  1.05166E-01\n",
      "  Starting inner iteration 002. Current err =  1.05067E-01\n",
      "* Starting outer iteration 011. Current err =  1.04895E-01\n",
      "  Starting inner iteration 000. Current err =  1.04895E-01\n",
      "  Starting inner iteration 001. Current err =  1.04779E-01\n",
      "  Starting inner iteration 002. Current err =  1.04711E-01\n",
      "* Starting outer iteration 012. Current err =  1.04592E-01\n",
      "  Starting inner iteration 000. Current err =  1.04592E-01\n",
      "  Starting inner iteration 001. Current err =  1.04493E-01\n",
      "  Starting inner iteration 002. Current err =  1.04448E-01\n",
      "* Starting outer iteration 013. Current err =  1.04388E-01\n",
      "  Starting inner iteration 000. Current err =  1.04388E-01\n",
      "  Starting inner iteration 001. Current err =  1.04305E-01\n",
      "  Starting inner iteration 002. Current err =  1.04274E-01\n",
      "* Starting outer iteration 014. Current err =  1.04274E-01\n",
      "  Starting inner iteration 000. Current err =  1.04274E-01\n",
      "  Starting inner iteration 001. Current err =  1.04205E-01\n",
      "  Starting inner iteration 002. Current err =  1.04185E-01\n",
      "* Starting outer iteration 015. Current err =  1.04242E-01\n",
      "  Starting inner iteration 000. Current err =  1.04242E-01\n",
      "  Starting inner iteration 001. Current err =  1.04185E-01\n",
      "  Starting inner iteration 002. Current err =  1.04173E-01\n"
     ]
    },
    {
     "name": "stderr",
     "output_type": "stream",
     "text": [
      "/Users/wenxuanhuang/Documents/Repo/Active-Learning-Performance-Benchmarking/thesis-project/lib/python3.8/site-packages/ace/ace.py:78: RuntimeWarning: invalid value encountered in true_divide\n",
      "  self.y_transform /= numpy.std(self.y_transform)\n"
     ]
    }
   ],
   "source": [
    "Xb_ace = ace.model.Model()\n",
    "Xy_ace = ace.model.Model()\n",
    "\n",
    "X_Xb_Mc, b_Xb_Mc = maximal_correlation_transform(Xb_ace, X.T.tolist(), b.tolist())\n",
    "X_Xy_Mc, y_Xy_Mc = maximal_correlation_transform(Xy_ace, X.T.tolist(), y.tolist())"
   ]
  },
  {
   "cell_type": "code",
   "execution_count": 7,
   "metadata": {},
   "outputs": [],
   "source": [
    "X_Xy_res = pd.DataFrame(data=np.array(X_Xy_Mc).T)\n",
    "X_Xy_res.to_csv('X_Xy_Mc_synthetic.csv',sep=',',index=False)\n",
    "\n",
    "y_Xy_res = pd.DataFrame(data=np.array(y_Xy_Mc).T)\n",
    "y_Xy_res.to_csv('y_Xy_Mc_synthetic.csv',sep=',',index=False)\n",
    "\n",
    "X_Xb_res = pd.DataFrame(data=np.array(X_Xb_Mc).T)\n",
    "X_Xb_res.to_csv('X_Xb_Mc_synthetic.csv',sep=',',index=False)\n",
    "\n",
    "b_Xb_res = pd.DataFrame(data=np.array(b_Xb_Mc).T)\n",
    "b_Xb_res.to_csv('b_Xb_Mc_synthetic.csv',sep=',',index=False)"
   ]
  }
 ],
 "metadata": {
  "interpreter": {
   "hash": "b6d1a97b03e52be1c553c50910cdb19760ee3e4d178c0a737039468e0b0f9e5f"
  },
  "kernelspec": {
   "display_name": "Python 3.8.9 64-bit ('thesis-project': venv)",
   "name": "python3"
  },
  "language_info": {
   "codemirror_mode": {
    "name": "ipython",
    "version": 3
   },
   "file_extension": ".py",
   "mimetype": "text/x-python",
   "name": "python",
   "nbconvert_exporter": "python",
   "pygments_lexer": "ipython3",
   "version": "3.8.9"
  },
  "orig_nbformat": 4
 },
 "nbformat": 4,
 "nbformat_minor": 2
}
